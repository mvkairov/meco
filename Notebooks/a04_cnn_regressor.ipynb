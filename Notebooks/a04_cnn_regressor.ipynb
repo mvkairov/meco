{
 "cells": [
  {
   "cell_type": "code",
   "execution_count": 1,
   "metadata": {
    "collapsed": true
   },
   "outputs": [],
   "source": [
    "from Preprocessing.MECO_data_split import MECODataSplit\n",
    "from sklearn.model_selection import train_test_split\n",
    "from keras import Sequential\n",
    "from keras.layers import Conv1D, Dropout, MaxPooling1D, Flatten, Dense\n",
    "import tensorflow as tf\n",
    "tf.config.set_visible_devices([], 'GPU')"
   ]
  },
  {
   "cell_type": "code",
   "execution_count": 2,
   "outputs": [],
   "source": [
    "dataset = MECODataSplit(['ru'], target_rows=['Target_Ave'])\n",
    "X, y = dataset.split_by_unique_values(split_cols=['SubjectID', 'Text_ID'],\n",
    "                                      include_cols='fix',\n",
    "                                      test_size=0, fix_threshold=0,\n",
    "                                      resample='truncate', series_length=200)"
   ],
   "metadata": {
    "collapsed": false
   }
  },
  {
   "cell_type": "code",
   "execution_count": 3,
   "outputs": [
    {
     "name": "stdout",
     "output_type": "stream",
     "text": [
      "(331, 200, 3) (331, 1)\n"
     ]
    }
   ],
   "source": [
    "print(X.shape, y.shape)"
   ],
   "metadata": {
    "collapsed": false
   }
  },
  {
   "cell_type": "code",
   "execution_count": 9,
   "outputs": [
    {
     "data": {
      "text/plain": "array([[4.12950475],\n       [4.12950475],\n       [4.12950475],\n       [4.12950475],\n       [4.07598004],\n       [4.07598004],\n       [3.92895022],\n       [3.92895022],\n       [3.92895022],\n       [3.92895022],\n       [3.92895022],\n       [3.92895022],\n       [3.92895022],\n       [3.92895022],\n       [3.78304404],\n       [3.78304404],\n       [3.78304404],\n       [3.78304404],\n       [2.75138426],\n       [2.75138426],\n       [2.75138426],\n       [2.75138426],\n       [2.75138426],\n       [2.75138426],\n       [4.12139712],\n       [3.9045029 ],\n       [3.9045029 ],\n       [3.9045029 ],\n       [3.9045029 ],\n       [3.9045029 ],\n       [3.64499482],\n       [3.64499482],\n       [3.64499482],\n       [3.64499482],\n       [3.64499482],\n       [3.64499482],\n       [3.64499482],\n       [3.64499482],\n       [3.64499482],\n       [3.64499482],\n       [4.29654188],\n       [4.29654188],\n       [2.93138228],\n       [2.93138228],\n       [2.93138228],\n       [2.93138228],\n       [2.93138228],\n       [2.93138228],\n       [3.80453019],\n       [3.80453019],\n       [3.80453019],\n       [3.80453019],\n       [4.25699486],\n       [4.25699486],\n       [3.98166625],\n       [3.98166625],\n       [3.98166625],\n       [3.98166625],\n       [3.98166625],\n       [3.98166625],\n       [3.85185763],\n       [3.85185763],\n       [3.85185763],\n       [3.30597712],\n       [3.30597712],\n       [3.30597712],\n       [3.30597712],\n       [3.58361939],\n       [3.31588203],\n       [3.31588203],\n       [3.31588203],\n       [3.31588203],\n       [3.31588203],\n       [3.31588203],\n       [3.31588203],\n       [3.31588203],\n       [3.48504713],\n       [3.48504713],\n       [3.48504713],\n       [3.48504713],\n       [2.95142335],\n       [2.95142335],\n       [3.21878469],\n       [3.21878469],\n       [3.21878469],\n       [3.21878469],\n       [3.21878469],\n       [3.21878469],\n       [3.21878469],\n       [3.21878469],\n       [3.51611953],\n       [3.51611953],\n       [3.51611953],\n       [3.51611953],\n       [3.51611953],\n       [3.53977874],\n       [3.53977874],\n       [3.53977874],\n       [3.53977874],\n       [3.53977874],\n       [3.53977874],\n       [3.53977874],\n       [3.53977874],\n       [3.53977874],\n       [3.53977874],\n       [3.53977874],\n       [4.16199934],\n       [3.69034484],\n       [3.69034484],\n       [3.69034484],\n       [3.69034484],\n       [3.69034484],\n       [3.69034484],\n       [3.69034484],\n       [3.69034484],\n       [3.69034484],\n       [3.69034484],\n       [3.69034484],\n       [3.62428729],\n       [3.62428729],\n       [3.62428729],\n       [3.83654054],\n       [4.04406242],\n       [4.04406242],\n       [4.04406242],\n       [4.04406242],\n       [4.04406242],\n       [4.04406242],\n       [3.96345344],\n       [3.96345344],\n       [3.96345344],\n       [3.96345344],\n       [3.20846468],\n       [3.20846468],\n       [3.20846468],\n       [3.20846468],\n       [3.20846468],\n       [3.23621725],\n       [3.23621725],\n       [3.23621725],\n       [3.23621725],\n       [3.23621725],\n       [3.23621725],\n       [3.23621725],\n       [3.23621725],\n       [2.99555861],\n       [2.99555861],\n       [2.99555861],\n       [2.99555861],\n       [2.99555861],\n       [3.94739043],\n       [3.94739043],\n       [3.94739043],\n       [3.94218767],\n       [3.94218767],\n       [3.94218767],\n       [3.94218767],\n       [3.94218767],\n       [3.94218767],\n       [3.55099646],\n       [3.55099646],\n       [3.55099646],\n       [3.55099646],\n       [3.55099646],\n       [3.64039572],\n       [3.64039572],\n       [3.64039572],\n       [3.64039572],\n       [3.64039572],\n       [3.64039572],\n       [3.55673285],\n       [4.32707616],\n       [4.32707616],\n       [3.15654161],\n       [3.15654161],\n       [3.15654161],\n       [3.15654161],\n       [3.15654161],\n       [3.15654161],\n       [3.15654161],\n       [3.15654161],\n       [3.15654161],\n       [2.49943945],\n       [2.49943945],\n       [2.49943945],\n       [2.49943945],\n       [2.61257863],\n       [2.61257863],\n       [3.22183072],\n       [3.22183072],\n       [3.22183072],\n       [3.22183072],\n       [3.22183072],\n       [3.22183072],\n       [3.22183072],\n       [3.22183072],\n       [3.22183072],\n       [3.22183072],\n       [3.22183072],\n       [2.91871832],\n       [2.91871832],\n       [2.91871832],\n       [2.91871832],\n       [2.91871832],\n       [2.91871832],\n       [3.26955868],\n       [2.68572192],\n       [2.68572192],\n       [2.68572192],\n       [2.68572192],\n       [2.68572192],\n       [2.68572192],\n       [2.68572192],\n       [2.68572192],\n       [2.68572192],\n       [2.50310176],\n       [2.50310176],\n       [2.50310176],\n       [2.50310176],\n       [2.50310176],\n       [2.50310176],\n       [2.50310176],\n       [2.20899656],\n       [2.20899656],\n       [2.20899656],\n       [2.20899656],\n       [2.20899656],\n       [3.72030261],\n       [3.72030261],\n       [3.72030261],\n       [3.28007756],\n       [3.28007756],\n       [3.28007756],\n       [3.28007756],\n       [3.28007756],\n       [3.28007756],\n       [3.28007756],\n       [2.98812391],\n       [2.98812391],\n       [2.98812391],\n       [2.98812391],\n       [2.98812391],\n       [2.98812391],\n       [3.76973443],\n       [3.76973443],\n       [3.76973443],\n       [3.76973443],\n       [3.76973443],\n       [3.76973443],\n       [4.00073029],\n       [4.00073029],\n       [3.59134084],\n       [3.59134084],\n       [3.59134084],\n       [3.59134084],\n       [3.59134084],\n       [3.59134084],\n       [3.91541213],\n       [3.91541213],\n       [3.91541213],\n       [3.91541213],\n       [3.91541213],\n       [3.91541213],\n       [3.91541213],\n       [3.91541213],\n       [4.53085849],\n       [4.53085849],\n       [4.12450212],\n       [4.12450212],\n       [4.12450212],\n       [4.12450212],\n       [2.38331553],\n       [2.38331553],\n       [3.63561369],\n       [3.63561369],\n       [3.63561369],\n       [3.63561369],\n       [3.63561369],\n       [3.63561369],\n       [2.81328093],\n       [2.81328093],\n       [2.81328093],\n       [2.81328093],\n       [2.81328093],\n       [2.81328093],\n       [2.81328093],\n       [3.84161047],\n       [3.84161047],\n       [3.84161047],\n       [3.84161047],\n       [3.84161047],\n       [3.84161047],\n       [3.84161047],\n       [3.84161047],\n       [3.12672952],\n       [3.12672952],\n       [3.12672952],\n       [3.89844415],\n       [3.89844415],\n       [3.89844415],\n       [3.89844415],\n       [3.89844415],\n       [3.57543198],\n       [3.57543198],\n       [3.57543198],\n       [3.57543198],\n       [3.57543198],\n       [3.57543198],\n       [3.57543198],\n       [3.57543198],\n       [3.57543198],\n       [3.5973723 ],\n       [3.5973723 ],\n       [3.5973723 ],\n       [3.5973723 ],\n       [3.5973723 ],\n       [3.31615884],\n       [3.31615884],\n       [3.31615884],\n       [3.31615884],\n       [3.72900202],\n       [3.72900202],\n       [3.72900202],\n       [3.72900202],\n       [3.72900202],\n       [3.72900202],\n       [3.72900202],\n       [3.72900202],\n       [3.72900202],\n       [3.72900202],\n       [3.72900202]])"
     },
     "execution_count": 9,
     "metadata": {},
     "output_type": "execute_result"
    }
   ],
   "source": [
    "y"
   ],
   "metadata": {
    "collapsed": false
   }
  },
  {
   "cell_type": "code",
   "execution_count": 4,
   "outputs": [],
   "source": [
    "X_train, X_test, y_train, y_test = train_test_split(X, y, test_size=0.2)\n",
    "n_timesteps, n_features, n_outputs = X_train.shape[1], X_train.shape[2], y_train.shape[1]"
   ],
   "metadata": {
    "collapsed": false
   }
  },
  {
   "cell_type": "code",
   "execution_count": 11,
   "outputs": [
    {
     "ename": "IndexError",
     "evalue": "only integers, slices (`:`), ellipsis (`...`), numpy.newaxis (`None`) and integer or boolean arrays are valid indices",
     "output_type": "error",
     "traceback": [
      "\u001B[0;31m---------------------------------------------------------------------------\u001B[0m",
      "\u001B[0;31mIndexError\u001B[0m                                Traceback (most recent call last)",
      "Cell \u001B[0;32mIn[11], line 1\u001B[0m\n\u001B[0;32m----> 1\u001B[0m y \u001B[38;5;241m=\u001B[39m \u001B[43my\u001B[49m\u001B[43m[\u001B[49m\u001B[38;5;124;43m'\u001B[39;49m\u001B[38;5;124;43m0\u001B[39;49m\u001B[38;5;124;43m'\u001B[39;49m\u001B[43m]\u001B[49m\n",
      "\u001B[0;31mIndexError\u001B[0m: only integers, slices (`:`), ellipsis (`...`), numpy.newaxis (`None`) and integer or boolean arrays are valid indices"
     ]
    }
   ],
   "source": [
    "y = y['0']"
   ],
   "metadata": {
    "collapsed": false
   }
  },
  {
   "cell_type": "code",
   "execution_count": 5,
   "outputs": [],
   "source": [
    "def train_model(conv_filters=64, kernel_size=3, strides=1, dropout_rate=0.5, pool_size=2, epochs=10, batch_size=32):\n",
    "    model = Sequential()\n",
    "    model.add(Conv1D(filters=conv_filters, kernel_size=kernel_size, strides=strides,\n",
    "                     activation='relu', input_shape=(n_timesteps, n_features)))\n",
    "    model.add(Conv1D(filters=conv_filters, kernel_size=kernel_size, strides=strides, activation='relu'))\n",
    "    model.add(MaxPooling1D(pool_size=pool_size))\n",
    "    model.add(Dropout(dropout_rate))\n",
    "    model.add(Flatten())\n",
    "    model.add(Dense(100, activation='relu'))\n",
    "    model.add(Dense(n_outputs, activation='softmax'))\n",
    "    model.compile(loss='mean_squared_error', optimizer='adam', metrics=['accuracy'])\n",
    "    model.fit(X_train, y_train, epochs=epochs, batch_size=batch_size)\n",
    "\n",
    "    return model"
   ],
   "metadata": {
    "collapsed": false
   }
  },
  {
   "cell_type": "code",
   "execution_count": 6,
   "outputs": [
    {
     "name": "stdout",
     "output_type": "stream",
     "text": [
      "Epoch 1/15\n"
     ]
    },
    {
     "name": "stderr",
     "output_type": "stream",
     "text": [
      "2023-04-06 17:14:30.698910: W tensorflow/tsl/platform/profile_utils/cpu_utils.cc:128] Failed to get CPU frequency: 0 Hz\n"
     ]
    },
    {
     "name": "stdout",
     "output_type": "stream",
     "text": [
      "9/9 [==============================] - 0s 10ms/step - loss: 6.2278 - accuracy: 0.0000e+00\n",
      "Epoch 2/15\n",
      "9/9 [==============================] - 0s 11ms/step - loss: 6.2278 - accuracy: 0.0000e+00\n",
      "Epoch 3/15\n",
      "9/9 [==============================] - 0s 10ms/step - loss: 6.2278 - accuracy: 0.0000e+00\n",
      "Epoch 4/15\n",
      "9/9 [==============================] - 0s 9ms/step - loss: 6.2278 - accuracy: 0.0000e+00\n",
      "Epoch 5/15\n",
      "9/9 [==============================] - 0s 9ms/step - loss: 6.2278 - accuracy: 0.0000e+00\n",
      "Epoch 6/15\n",
      "9/9 [==============================] - 0s 9ms/step - loss: 6.2278 - accuracy: 0.0000e+00\n",
      "Epoch 7/15\n",
      "9/9 [==============================] - 0s 10ms/step - loss: 6.2278 - accuracy: 0.0000e+00\n",
      "Epoch 8/15\n",
      "9/9 [==============================] - 0s 12ms/step - loss: 6.2278 - accuracy: 0.0000e+00\n",
      "Epoch 9/15\n",
      "9/9 [==============================] - 0s 10ms/step - loss: 6.2278 - accuracy: 0.0000e+00\n",
      "Epoch 10/15\n",
      "9/9 [==============================] - 0s 10ms/step - loss: 6.2278 - accuracy: 0.0000e+00\n",
      "Epoch 11/15\n",
      "9/9 [==============================] - 0s 9ms/step - loss: 6.2278 - accuracy: 0.0000e+00\n",
      "Epoch 12/15\n",
      "9/9 [==============================] - 0s 9ms/step - loss: 6.2278 - accuracy: 0.0000e+00\n",
      "Epoch 13/15\n",
      "9/9 [==============================] - 0s 9ms/step - loss: 6.2278 - accuracy: 0.0000e+00\n",
      "Epoch 14/15\n",
      "9/9 [==============================] - 0s 11ms/step - loss: 6.2278 - accuracy: 0.0000e+00\n",
      "Epoch 15/15\n",
      "9/9 [==============================] - 0s 11ms/step - loss: 6.2278 - accuracy: 0.0000e+00\n"
     ]
    }
   ],
   "source": [
    "cnn = train_model(epochs=15, batch_size=32, dropout_rate=0.5, conv_filters=64, kernel_size=3)"
   ],
   "metadata": {
    "collapsed": false
   }
  },
  {
   "cell_type": "code",
   "execution_count": null,
   "outputs": [],
   "source": [
    "loss, accuracy = cnn.evaluate(X_train, y_train)"
   ],
   "metadata": {
    "collapsed": false
   }
  }
 ],
 "metadata": {
  "kernelspec": {
   "name": "conda-env-ml_env-py",
   "language": "python",
   "display_name": "Python [conda env:ml_env]"
  },
  "language_info": {
   "codemirror_mode": {
    "name": "ipython",
    "version": 2
   },
   "file_extension": ".py",
   "mimetype": "text/x-python",
   "name": "python",
   "nbconvert_exporter": "python",
   "pygments_lexer": "ipython2",
   "version": "2.7.6"
  }
 },
 "nbformat": 4,
 "nbformat_minor": 0
}
