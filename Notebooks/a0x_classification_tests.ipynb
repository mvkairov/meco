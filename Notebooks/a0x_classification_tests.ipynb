{
 "cells": [
  {
   "cell_type": "code",
   "execution_count": 49,
   "metadata": {
    "collapsed": true,
    "ExecuteTime": {
     "start_time": "2023-04-14T19:12:50.972716Z",
     "end_time": "2023-04-14T19:12:50.982567Z"
    }
   },
   "outputs": [],
   "source": [
    "from sklearn.ensemble import RandomForestClassifier\n",
    "from sklearn.linear_model import LogisticRegression\n",
    "from sklearn.preprocessing import StandardScaler\n",
    "from sklearn.pipeline import Pipeline\n",
    "import numpy as np\n",
    "\n",
    "from Preprocessing.MECO_data_split import fix_cols, demo_cols, concat_MECO_langs, lang_list"
   ]
  },
  {
   "cell_type": "code",
   "execution_count": 34,
   "outputs": [],
   "source": [
    "data = concat_MECO_langs(['ru'])\n",
    "\n",
    "# data\n",
    "data['OpSex'] = 1 - data['Sex']\n",
    "\n"
   ],
   "metadata": {
    "collapsed": false,
    "ExecuteTime": {
     "start_time": "2023-04-11T18:28:13.538075Z",
     "end_time": "2023-04-11T18:28:13.840747Z"
    }
   }
  },
  {
   "cell_type": "code",
   "execution_count": 35,
   "outputs": [],
   "source": [
    "from sklearn.model_selection import train_test_split\n",
    "\n",
    "uv = data['SubjectID'].unique()\n",
    "uv_train, uv_test = train_test_split(uv, test_size=0.1)"
   ],
   "metadata": {
    "collapsed": false,
    "ExecuteTime": {
     "start_time": "2023-04-11T18:28:13.935343Z",
     "end_time": "2023-04-11T18:28:13.938759Z"
    }
   }
  },
  {
   "cell_type": "code",
   "execution_count": 36,
   "outputs": [
    {
     "data": {
      "text/plain": "array(['rum_20', 'rum_2', 'rum_44', 'ru_35', 'rum_11', 'rum_1', 'rum_17',\n       'ru_40', 'ru_26'], dtype=object)"
     },
     "execution_count": 36,
     "metadata": {},
     "output_type": "execute_result"
    }
   ],
   "source": [
    "uv_test"
   ],
   "metadata": {
    "collapsed": false,
    "ExecuteTime": {
     "start_time": "2023-04-11T18:28:14.448552Z",
     "end_time": "2023-04-11T18:28:14.452180Z"
    }
   }
  },
  {
   "cell_type": "code",
   "execution_count": 37,
   "outputs": [],
   "source": [
    "data_train = data[data['SubjectID'].isin(uv_train)]\n",
    "data_test = data[data['SubjectID'].isin(uv_test)]\n",
    "\n",
    "X_train, y_train = data_train[demo_cols + ['OpSex']], data_train['Target_Label']\n",
    "X_test, y_test = data_test[demo_cols + ['OpSex']], data_test['Target_Label']"
   ],
   "metadata": {
    "collapsed": false,
    "ExecuteTime": {
     "start_time": "2023-04-11T18:28:15.026843Z",
     "end_time": "2023-04-11T18:28:15.063195Z"
    }
   }
  },
  {
   "cell_type": "code",
   "execution_count": 38,
   "outputs": [
    {
     "data": {
      "text/plain": "        motiv   IQ  Age  Sex  OpSex\n3562      2.4  7.0   20    0      1\n3563      2.4  7.0   20    0      1\n3564      2.4  7.0   20    0      1\n3565      2.4  7.0   20    0      1\n3566      2.4  7.0   20    0      1\n...       ...  ...  ...  ...    ...\n184786    3.4  8.0   29    1      0\n184787    3.4  8.0   29    1      0\n184788    3.4  8.0   29    1      0\n184789    3.4  8.0   29    1      0\n184790    3.4  8.0   29    1      0\n\n[167226 rows x 5 columns]",
      "text/html": "<div>\n<style scoped>\n    .dataframe tbody tr th:only-of-type {\n        vertical-align: middle;\n    }\n\n    .dataframe tbody tr th {\n        vertical-align: top;\n    }\n\n    .dataframe thead th {\n        text-align: right;\n    }\n</style>\n<table border=\"1\" class=\"dataframe\">\n  <thead>\n    <tr style=\"text-align: right;\">\n      <th></th>\n      <th>motiv</th>\n      <th>IQ</th>\n      <th>Age</th>\n      <th>Sex</th>\n      <th>OpSex</th>\n    </tr>\n  </thead>\n  <tbody>\n    <tr>\n      <th>3562</th>\n      <td>2.4</td>\n      <td>7.0</td>\n      <td>20</td>\n      <td>0</td>\n      <td>1</td>\n    </tr>\n    <tr>\n      <th>3563</th>\n      <td>2.4</td>\n      <td>7.0</td>\n      <td>20</td>\n      <td>0</td>\n      <td>1</td>\n    </tr>\n    <tr>\n      <th>3564</th>\n      <td>2.4</td>\n      <td>7.0</td>\n      <td>20</td>\n      <td>0</td>\n      <td>1</td>\n    </tr>\n    <tr>\n      <th>3565</th>\n      <td>2.4</td>\n      <td>7.0</td>\n      <td>20</td>\n      <td>0</td>\n      <td>1</td>\n    </tr>\n    <tr>\n      <th>3566</th>\n      <td>2.4</td>\n      <td>7.0</td>\n      <td>20</td>\n      <td>0</td>\n      <td>1</td>\n    </tr>\n    <tr>\n      <th>...</th>\n      <td>...</td>\n      <td>...</td>\n      <td>...</td>\n      <td>...</td>\n      <td>...</td>\n    </tr>\n    <tr>\n      <th>184786</th>\n      <td>3.4</td>\n      <td>8.0</td>\n      <td>29</td>\n      <td>1</td>\n      <td>0</td>\n    </tr>\n    <tr>\n      <th>184787</th>\n      <td>3.4</td>\n      <td>8.0</td>\n      <td>29</td>\n      <td>1</td>\n      <td>0</td>\n    </tr>\n    <tr>\n      <th>184788</th>\n      <td>3.4</td>\n      <td>8.0</td>\n      <td>29</td>\n      <td>1</td>\n      <td>0</td>\n    </tr>\n    <tr>\n      <th>184789</th>\n      <td>3.4</td>\n      <td>8.0</td>\n      <td>29</td>\n      <td>1</td>\n      <td>0</td>\n    </tr>\n    <tr>\n      <th>184790</th>\n      <td>3.4</td>\n      <td>8.0</td>\n      <td>29</td>\n      <td>1</td>\n      <td>0</td>\n    </tr>\n  </tbody>\n</table>\n<p>167226 rows × 5 columns</p>\n</div>"
     },
     "execution_count": 38,
     "metadata": {},
     "output_type": "execute_result"
    }
   ],
   "source": [
    "X_train"
   ],
   "metadata": {
    "collapsed": false,
    "ExecuteTime": {
     "start_time": "2023-04-11T18:28:15.530345Z",
     "end_time": "2023-04-11T18:28:15.535736Z"
    }
   }
  },
  {
   "cell_type": "code",
   "execution_count": 45,
   "outputs": [
    {
     "data": {
      "text/plain": "Pipeline(steps=[('scaler', StandardScaler()),\n                ('clf',\n                 RandomForestClassifier(min_samples_leaf=3, min_samples_split=8,\n                                        n_estimators=3000))])",
      "text/html": "<style>#sk-container-id-8 {color: black;background-color: white;}#sk-container-id-8 pre{padding: 0;}#sk-container-id-8 div.sk-toggleable {background-color: white;}#sk-container-id-8 label.sk-toggleable__label {cursor: pointer;display: block;width: 100%;margin-bottom: 0;padding: 0.3em;box-sizing: border-box;text-align: center;}#sk-container-id-8 label.sk-toggleable__label-arrow:before {content: \"▸\";float: left;margin-right: 0.25em;color: #696969;}#sk-container-id-8 label.sk-toggleable__label-arrow:hover:before {color: black;}#sk-container-id-8 div.sk-estimator:hover label.sk-toggleable__label-arrow:before {color: black;}#sk-container-id-8 div.sk-toggleable__content {max-height: 0;max-width: 0;overflow: hidden;text-align: left;background-color: #f0f8ff;}#sk-container-id-8 div.sk-toggleable__content pre {margin: 0.2em;color: black;border-radius: 0.25em;background-color: #f0f8ff;}#sk-container-id-8 input.sk-toggleable__control:checked~div.sk-toggleable__content {max-height: 200px;max-width: 100%;overflow: auto;}#sk-container-id-8 input.sk-toggleable__control:checked~label.sk-toggleable__label-arrow:before {content: \"▾\";}#sk-container-id-8 div.sk-estimator input.sk-toggleable__control:checked~label.sk-toggleable__label {background-color: #d4ebff;}#sk-container-id-8 div.sk-label input.sk-toggleable__control:checked~label.sk-toggleable__label {background-color: #d4ebff;}#sk-container-id-8 input.sk-hidden--visually {border: 0;clip: rect(1px 1px 1px 1px);clip: rect(1px, 1px, 1px, 1px);height: 1px;margin: -1px;overflow: hidden;padding: 0;position: absolute;width: 1px;}#sk-container-id-8 div.sk-estimator {font-family: monospace;background-color: #f0f8ff;border: 1px dotted black;border-radius: 0.25em;box-sizing: border-box;margin-bottom: 0.5em;}#sk-container-id-8 div.sk-estimator:hover {background-color: #d4ebff;}#sk-container-id-8 div.sk-parallel-item::after {content: \"\";width: 100%;border-bottom: 1px solid gray;flex-grow: 1;}#sk-container-id-8 div.sk-label:hover label.sk-toggleable__label {background-color: #d4ebff;}#sk-container-id-8 div.sk-serial::before {content: \"\";position: absolute;border-left: 1px solid gray;box-sizing: border-box;top: 0;bottom: 0;left: 50%;z-index: 0;}#sk-container-id-8 div.sk-serial {display: flex;flex-direction: column;align-items: center;background-color: white;padding-right: 0.2em;padding-left: 0.2em;position: relative;}#sk-container-id-8 div.sk-item {position: relative;z-index: 1;}#sk-container-id-8 div.sk-parallel {display: flex;align-items: stretch;justify-content: center;background-color: white;position: relative;}#sk-container-id-8 div.sk-item::before, #sk-container-id-8 div.sk-parallel-item::before {content: \"\";position: absolute;border-left: 1px solid gray;box-sizing: border-box;top: 0;bottom: 0;left: 50%;z-index: -1;}#sk-container-id-8 div.sk-parallel-item {display: flex;flex-direction: column;z-index: 1;position: relative;background-color: white;}#sk-container-id-8 div.sk-parallel-item:first-child::after {align-self: flex-end;width: 50%;}#sk-container-id-8 div.sk-parallel-item:last-child::after {align-self: flex-start;width: 50%;}#sk-container-id-8 div.sk-parallel-item:only-child::after {width: 0;}#sk-container-id-8 div.sk-dashed-wrapped {border: 1px dashed gray;margin: 0 0.4em 0.5em 0.4em;box-sizing: border-box;padding-bottom: 0.4em;background-color: white;}#sk-container-id-8 div.sk-label label {font-family: monospace;font-weight: bold;display: inline-block;line-height: 1.2em;}#sk-container-id-8 div.sk-label-container {text-align: center;}#sk-container-id-8 div.sk-container {/* jupyter's `normalize.less` sets `[hidden] { display: none; }` but bootstrap.min.css set `[hidden] { display: none !important; }` so we also need the `!important` here to be able to override the default hidden behavior on the sphinx rendered scikit-learn.org. See: https://github.com/scikit-learn/scikit-learn/issues/21755 */display: inline-block !important;position: relative;}#sk-container-id-8 div.sk-text-repr-fallback {display: none;}</style><div id=\"sk-container-id-8\" class=\"sk-top-container\"><div class=\"sk-text-repr-fallback\"><pre>Pipeline(steps=[(&#x27;scaler&#x27;, StandardScaler()),\n                (&#x27;clf&#x27;,\n                 RandomForestClassifier(min_samples_leaf=3, min_samples_split=8,\n                                        n_estimators=3000))])</pre><b>In a Jupyter environment, please rerun this cell to show the HTML representation or trust the notebook. <br />On GitHub, the HTML representation is unable to render, please try loading this page with nbviewer.org.</b></div><div class=\"sk-container\" hidden><div class=\"sk-item sk-dashed-wrapped\"><div class=\"sk-label-container\"><div class=\"sk-label sk-toggleable\"><input class=\"sk-toggleable__control sk-hidden--visually\" id=\"sk-estimator-id-22\" type=\"checkbox\" ><label for=\"sk-estimator-id-22\" class=\"sk-toggleable__label sk-toggleable__label-arrow\">Pipeline</label><div class=\"sk-toggleable__content\"><pre>Pipeline(steps=[(&#x27;scaler&#x27;, StandardScaler()),\n                (&#x27;clf&#x27;,\n                 RandomForestClassifier(min_samples_leaf=3, min_samples_split=8,\n                                        n_estimators=3000))])</pre></div></div></div><div class=\"sk-serial\"><div class=\"sk-item\"><div class=\"sk-estimator sk-toggleable\"><input class=\"sk-toggleable__control sk-hidden--visually\" id=\"sk-estimator-id-23\" type=\"checkbox\" ><label for=\"sk-estimator-id-23\" class=\"sk-toggleable__label sk-toggleable__label-arrow\">StandardScaler</label><div class=\"sk-toggleable__content\"><pre>StandardScaler()</pre></div></div></div><div class=\"sk-item\"><div class=\"sk-estimator sk-toggleable\"><input class=\"sk-toggleable__control sk-hidden--visually\" id=\"sk-estimator-id-24\" type=\"checkbox\" ><label for=\"sk-estimator-id-24\" class=\"sk-toggleable__label sk-toggleable__label-arrow\">RandomForestClassifier</label><div class=\"sk-toggleable__content\"><pre>RandomForestClassifier(min_samples_leaf=3, min_samples_split=8,\n                       n_estimators=3000)</pre></div></div></div></div></div></div></div>"
     },
     "execution_count": 45,
     "metadata": {},
     "output_type": "execute_result"
    }
   ],
   "source": [
    "pipeline = Pipeline([\n",
    "    ('scaler', StandardScaler()),\n",
    "     # ('clf', LogisticRegression())\n",
    "    ('clf', RandomForestClassifier(n_estimators=3000, min_samples_leaf=3, min_samples_split=8))\n",
    "])\n",
    "pipeline.fit(X_train, y_train)"
   ],
   "metadata": {
    "collapsed": false,
    "ExecuteTime": {
     "start_time": "2023-04-11T18:31:24.958092Z",
     "end_time": "2023-04-11T18:32:59.811233Z"
    }
   }
  },
  {
   "cell_type": "code",
   "execution_count": 46,
   "outputs": [
    {
     "data": {
      "text/plain": "0.6336464560204953"
     },
     "execution_count": 46,
     "metadata": {},
     "output_type": "execute_result"
    }
   ],
   "source": [
    "pipeline.score(X_test, y_test)"
   ],
   "metadata": {
    "collapsed": false,
    "ExecuteTime": {
     "start_time": "2023-04-11T18:32:59.813044Z",
     "end_time": "2023-04-11T18:33:02.123108Z"
    }
   }
  },
  {
   "cell_type": "code",
   "execution_count": 17,
   "outputs": [
    {
     "data": {
      "text/plain": "        motiv   IQ  Age  Sex  OpSex\n0         3.7  7.0   30    0      1\n1         3.7  7.0   30    0      1\n2         3.7  7.0   30    0      1\n3         3.7  7.0   30    0      1\n4         3.7  7.0   30    0      1\n...       ...  ...  ...  ...    ...\n184786    3.4  8.0   29    1      0\n184787    3.4  8.0   29    1      0\n184788    3.4  8.0   29    1      0\n184789    3.4  8.0   29    1      0\n184790    3.4  8.0   29    1      0\n\n[165602 rows x 5 columns]",
      "text/html": "<div>\n<style scoped>\n    .dataframe tbody tr th:only-of-type {\n        vertical-align: middle;\n    }\n\n    .dataframe tbody tr th {\n        vertical-align: top;\n    }\n\n    .dataframe thead th {\n        text-align: right;\n    }\n</style>\n<table border=\"1\" class=\"dataframe\">\n  <thead>\n    <tr style=\"text-align: right;\">\n      <th></th>\n      <th>motiv</th>\n      <th>IQ</th>\n      <th>Age</th>\n      <th>Sex</th>\n      <th>OpSex</th>\n    </tr>\n  </thead>\n  <tbody>\n    <tr>\n      <th>0</th>\n      <td>3.7</td>\n      <td>7.0</td>\n      <td>30</td>\n      <td>0</td>\n      <td>1</td>\n    </tr>\n    <tr>\n      <th>1</th>\n      <td>3.7</td>\n      <td>7.0</td>\n      <td>30</td>\n      <td>0</td>\n      <td>1</td>\n    </tr>\n    <tr>\n      <th>2</th>\n      <td>3.7</td>\n      <td>7.0</td>\n      <td>30</td>\n      <td>0</td>\n      <td>1</td>\n    </tr>\n    <tr>\n      <th>3</th>\n      <td>3.7</td>\n      <td>7.0</td>\n      <td>30</td>\n      <td>0</td>\n      <td>1</td>\n    </tr>\n    <tr>\n      <th>4</th>\n      <td>3.7</td>\n      <td>7.0</td>\n      <td>30</td>\n      <td>0</td>\n      <td>1</td>\n    </tr>\n    <tr>\n      <th>...</th>\n      <td>...</td>\n      <td>...</td>\n      <td>...</td>\n      <td>...</td>\n      <td>...</td>\n    </tr>\n    <tr>\n      <th>184786</th>\n      <td>3.4</td>\n      <td>8.0</td>\n      <td>29</td>\n      <td>1</td>\n      <td>0</td>\n    </tr>\n    <tr>\n      <th>184787</th>\n      <td>3.4</td>\n      <td>8.0</td>\n      <td>29</td>\n      <td>1</td>\n      <td>0</td>\n    </tr>\n    <tr>\n      <th>184788</th>\n      <td>3.4</td>\n      <td>8.0</td>\n      <td>29</td>\n      <td>1</td>\n      <td>0</td>\n    </tr>\n    <tr>\n      <th>184789</th>\n      <td>3.4</td>\n      <td>8.0</td>\n      <td>29</td>\n      <td>1</td>\n      <td>0</td>\n    </tr>\n    <tr>\n      <th>184790</th>\n      <td>3.4</td>\n      <td>8.0</td>\n      <td>29</td>\n      <td>1</td>\n      <td>0</td>\n    </tr>\n  </tbody>\n</table>\n<p>165602 rows × 5 columns</p>\n</div>"
     },
     "execution_count": 17,
     "metadata": {},
     "output_type": "execute_result"
    }
   ],
   "source": [
    "X_train"
   ],
   "metadata": {
    "collapsed": false,
    "ExecuteTime": {
     "start_time": "2023-04-11T18:24:38.948640Z",
     "end_time": "2023-04-11T18:24:38.952951Z"
    }
   }
  },
  {
   "cell_type": "code",
   "execution_count": 23,
   "outputs": [
    {
     "data": {
      "text/plain": "array([2., 3., 4.])"
     },
     "execution_count": 23,
     "metadata": {},
     "output_type": "execute_result"
    }
   ],
   "source": [
    "np.unique(y_test)"
   ],
   "metadata": {
    "collapsed": false,
    "ExecuteTime": {
     "start_time": "2023-04-11T18:26:03.857557Z",
     "end_time": "2023-04-11T18:26:03.864788Z"
    }
   }
  },
  {
   "cell_type": "code",
   "execution_count": 14,
   "outputs": [
    {
     "data": {
      "text/plain": "        motiv   IQ  Age  Sex  OpSex\n19498     3.4  5.0   18    0      1\n19499     3.4  5.0   18    0      1\n19500     3.4  5.0   18    0      1\n19501     3.4  5.0   18    0      1\n19502     3.4  5.0   18    0      1\n...       ...  ...  ...  ...    ...\n145018    3.8  8.0   34    0      1\n145019    3.8  8.0   34    0      1\n145020    3.8  8.0   34    0      1\n145021    3.8  8.0   34    0      1\n145022    3.8  8.0   34    0      1\n\n[19189 rows x 5 columns]",
      "text/html": "<div>\n<style scoped>\n    .dataframe tbody tr th:only-of-type {\n        vertical-align: middle;\n    }\n\n    .dataframe tbody tr th {\n        vertical-align: top;\n    }\n\n    .dataframe thead th {\n        text-align: right;\n    }\n</style>\n<table border=\"1\" class=\"dataframe\">\n  <thead>\n    <tr style=\"text-align: right;\">\n      <th></th>\n      <th>motiv</th>\n      <th>IQ</th>\n      <th>Age</th>\n      <th>Sex</th>\n      <th>OpSex</th>\n    </tr>\n  </thead>\n  <tbody>\n    <tr>\n      <th>19498</th>\n      <td>3.4</td>\n      <td>5.0</td>\n      <td>18</td>\n      <td>0</td>\n      <td>1</td>\n    </tr>\n    <tr>\n      <th>19499</th>\n      <td>3.4</td>\n      <td>5.0</td>\n      <td>18</td>\n      <td>0</td>\n      <td>1</td>\n    </tr>\n    <tr>\n      <th>19500</th>\n      <td>3.4</td>\n      <td>5.0</td>\n      <td>18</td>\n      <td>0</td>\n      <td>1</td>\n    </tr>\n    <tr>\n      <th>19501</th>\n      <td>3.4</td>\n      <td>5.0</td>\n      <td>18</td>\n      <td>0</td>\n      <td>1</td>\n    </tr>\n    <tr>\n      <th>19502</th>\n      <td>3.4</td>\n      <td>5.0</td>\n      <td>18</td>\n      <td>0</td>\n      <td>1</td>\n    </tr>\n    <tr>\n      <th>...</th>\n      <td>...</td>\n      <td>...</td>\n      <td>...</td>\n      <td>...</td>\n      <td>...</td>\n    </tr>\n    <tr>\n      <th>145018</th>\n      <td>3.8</td>\n      <td>8.0</td>\n      <td>34</td>\n      <td>0</td>\n      <td>1</td>\n    </tr>\n    <tr>\n      <th>145019</th>\n      <td>3.8</td>\n      <td>8.0</td>\n      <td>34</td>\n      <td>0</td>\n      <td>1</td>\n    </tr>\n    <tr>\n      <th>145020</th>\n      <td>3.8</td>\n      <td>8.0</td>\n      <td>34</td>\n      <td>0</td>\n      <td>1</td>\n    </tr>\n    <tr>\n      <th>145021</th>\n      <td>3.8</td>\n      <td>8.0</td>\n      <td>34</td>\n      <td>0</td>\n      <td>1</td>\n    </tr>\n    <tr>\n      <th>145022</th>\n      <td>3.8</td>\n      <td>8.0</td>\n      <td>34</td>\n      <td>0</td>\n      <td>1</td>\n    </tr>\n  </tbody>\n</table>\n<p>19189 rows × 5 columns</p>\n</div>"
     },
     "execution_count": 14,
     "metadata": {},
     "output_type": "execute_result"
    }
   ],
   "source": [
    "X_test"
   ],
   "metadata": {
    "collapsed": false,
    "ExecuteTime": {
     "start_time": "2023-04-11T18:24:12.055663Z",
     "end_time": "2023-04-11T18:24:12.058329Z"
    }
   }
  },
  {
   "cell_type": "code",
   "execution_count": 2,
   "outputs": [],
   "source": [
    "from Preprocessing.MECO_data_split import make_dataset\n",
    "\n",
    "X, y, v = make_dataset(['ru'], path_to_data='../Datasets/DataToUse/')"
   ],
   "metadata": {
    "collapsed": false,
    "ExecuteTime": {
     "start_time": "2023-04-14T19:13:52.545560Z",
     "end_time": "2023-04-14T19:13:52.800752Z"
    }
   }
  },
  {
   "cell_type": "code",
   "execution_count": 8,
   "outputs": [
    {
     "name": "stdout",
     "output_type": "stream",
     "text": [
      "[  4517   4518   4519 ... 184788 184789 184790]\n",
      "[   0    1    2 ... 4514 4515 4516]\n",
      "\n",
      "[     0      1      2 ... 184788 184789 184790]\n",
      "[ 4517  4518  4519 ... 10447 10448 10449]\n",
      "\n",
      "[     0      1      2 ... 184788 184789 184790]\n",
      "[10450 10451 10452 ... 16534 16535 16536]\n",
      "\n",
      "[     0      1      2 ... 184788 184789 184790]\n",
      "[16537 16538 16539 ... 21660 21661 21662]\n",
      "\n",
      "[     0      1      2 ... 184788 184789 184790]\n",
      "[21663 21664 21665 ... 28049 28050 28051]\n",
      "\n",
      "[     0      1      2 ... 184788 184789 184790]\n",
      "[28052 28053 28054 ... 34499 34500 34501]\n",
      "\n",
      "[     0      1      2 ... 184788 184789 184790]\n",
      "[34502 34503 34504 ... 39980 39981 39982]\n",
      "\n",
      "[     0      1      2 ... 184788 184789 184790]\n",
      "[39983 39984 39985 ... 45877 45878 45879]\n",
      "\n",
      "[     0      1      2 ... 184788 184789 184790]\n",
      "[45880 45881 45882 ... 52619 52620 52621]\n",
      "\n",
      "[     0      1      2 ... 184788 184789 184790]\n",
      "[52622 52623 52624 ... 58831 58832 58833]\n",
      "\n",
      "[     0      1      2 ... 184788 184789 184790]\n",
      "[58834 58835 58836 ... 65953 65954 65955]\n",
      "\n",
      "[     0      1      2 ... 184788 184789 184790]\n",
      "[65956 65957 65958 ... 73313 73314 73315]\n",
      "\n",
      "[     0      1      2 ... 184788 184789 184790]\n",
      "[73316 73317 73318 ... 79708 79709 79710]\n",
      "\n",
      "[     0      1      2 ... 184788 184789 184790]\n",
      "[79711 79712 79713 ... 86223 86224 86225]\n",
      "\n",
      "[     0      1      2 ... 184788 184789 184790]\n",
      "[86226 86227 86228 ... 91969 91970 91971]\n",
      "\n",
      "[     0      1      2 ... 184788 184789 184790]\n",
      "[91972 91973 91974 ... 97610 97611 97612]\n",
      "\n",
      "[     0      1      2 ... 184788 184789 184790]\n",
      "[ 97613  97614  97615 ... 104350 104351 104352]\n",
      "\n",
      "[     0      1      2 ... 184788 184789 184790]\n",
      "[104353 104354 104355 ... 110746 110747 110748]\n",
      "\n",
      "[     0      1      2 ... 184788 184789 184790]\n",
      "[110749 110750 110751 ... 118437 118438 118439]\n",
      "\n",
      "[     0      1      2 ... 184788 184789 184790]\n",
      "[118440 118441 118442 ... 125284 125285 125286]\n",
      "\n",
      "[     0      1      2 ... 184788 184789 184790]\n",
      "[125287 125288 125289 ... 132290 132291 132292]\n",
      "\n",
      "[     0      1      2 ... 184788 184789 184790]\n",
      "[132293 132294 132295 ... 138696 138697 138698]\n",
      "\n",
      "[     0      1      2 ... 184788 184789 184790]\n",
      "[138699 138700 138701 ... 145020 145021 145022]\n",
      "\n",
      "[     0      1      2 ... 184788 184789 184790]\n",
      "[145023 145024 145025 ... 151966 151967 151968]\n",
      "\n",
      "[     0      1      2 ... 184788 184789 184790]\n",
      "[151969 151970 151971 ... 156582 156583 156584]\n",
      "\n",
      "[     0      1      2 ... 184788 184789 184790]\n",
      "[156585 156586 156587 ... 163705 163706 163707]\n",
      "\n",
      "[     0      1      2 ... 184788 184789 184790]\n",
      "[163708 163709 163710 ... 169983 169984 169985]\n",
      "\n",
      "[     0      1      2 ... 184788 184789 184790]\n",
      "[169986 169987 169988 ... 177095 177096 177097]\n",
      "\n",
      "[     0      1      2 ... 177095 177096 177097]\n",
      "[177098 177099 177100 ... 184788 184789 184790]\n",
      "\n"
     ]
    }
   ],
   "source": [
    "from Models.search_methods import get_custom_cv\n",
    "\n",
    "for a, b in get_custom_cv(3, v).split(X, y):\n",
    "    print(a)\n",
    "    print(b)\n",
    "    print()"
   ],
   "metadata": {
    "collapsed": false,
    "ExecuteTime": {
     "start_time": "2023-04-14T19:18:21.656386Z",
     "end_time": "2023-04-14T19:18:21.698144Z"
    }
   }
  },
  {
   "cell_type": "code",
   "execution_count": 1,
   "outputs": [],
   "source": [
    "from Preprocessing.MECO_data_split import MECODataSplit\n",
    "\n",
    "split = MECODataSplit(['ru'])"
   ],
   "metadata": {
    "collapsed": false,
    "ExecuteTime": {
     "start_time": "2023-04-19T16:18:36.786589Z",
     "end_time": "2023-04-19T16:18:37.980320Z"
    }
   }
  },
  {
   "cell_type": "code",
   "execution_count": 2,
   "outputs": [
    {
     "ename": "SyntaxError",
     "evalue": "invalid syntax (<unknown>, line 1)",
     "output_type": "error",
     "traceback": [
      "Traceback \u001B[0;36m(most recent call last)\u001B[0m:\n",
      "  File \u001B[1;32m\"/Users/mvkairov/mambaforge/envs/tf_env/lib/python3.9/site-packages/IPython/core/interactiveshell.py\"\u001B[0m, line \u001B[1;32m3444\u001B[0m, in \u001B[1;35mrun_code\u001B[0m\n    exec(code_obj, self.user_global_ns, self.user_ns)\n",
      "  File \u001B[1;32m\"/var/folders/p0/zb5fdjs17y75059dngt863kw0000gn/T/ipykernel_44151/2472498204.py\"\u001B[0m, line \u001B[1;32m1\u001B[0m, in \u001B[1;35m<module>\u001B[0m\n    X, y = split.split_by_unique_values(split_cols=['Word', 'Text_ID'], resample=None, test_size=0)\n",
      "  File \u001B[1;32m\"/Users/mvkairov/programming/L2_MECO/Preprocessing/MECO_data_split.py\"\u001B[0m, line \u001B[1;32m144\u001B[0m, in \u001B[1;35msplit_by_unique_values\u001B[0m\n    X, y = self.get_Xy(labels=train_labels, include_cols=include_cols)\n",
      "  File \u001B[1;32m\"/Users/mvkairov/programming/L2_MECO/Preprocessing/MECO_data_split.py\"\u001B[0m, line \u001B[1;32m122\u001B[0m, in \u001B[1;35mget_Xy\u001B[0m\n    cur_rows = self.data.query(condition_query[:-2])\n",
      "  File \u001B[1;32m\"/Users/mvkairov/mambaforge/envs/tf_env/lib/python3.9/site-packages/pandas/util/_decorators.py\"\u001B[0m, line \u001B[1;32m331\u001B[0m, in \u001B[1;35mwrapper\u001B[0m\n    return func(*args, **kwargs)\n",
      "  File \u001B[1;32m\"/Users/mvkairov/mambaforge/envs/tf_env/lib/python3.9/site-packages/pandas/core/frame.py\"\u001B[0m, line \u001B[1;32m4474\u001B[0m, in \u001B[1;35mquery\u001B[0m\n    res = self.eval(expr, **kwargs)\n",
      "  File \u001B[1;32m\"/Users/mvkairov/mambaforge/envs/tf_env/lib/python3.9/site-packages/pandas/util/_decorators.py\"\u001B[0m, line \u001B[1;32m331\u001B[0m, in \u001B[1;35mwrapper\u001B[0m\n    return func(*args, **kwargs)\n",
      "  File \u001B[1;32m\"/Users/mvkairov/mambaforge/envs/tf_env/lib/python3.9/site-packages/pandas/core/frame.py\"\u001B[0m, line \u001B[1;32m4612\u001B[0m, in \u001B[1;35meval\u001B[0m\n    return _eval(expr, inplace=inplace, **kwargs)\n",
      "  File \u001B[1;32m\"/Users/mvkairov/mambaforge/envs/tf_env/lib/python3.9/site-packages/pandas/core/computation/eval.py\"\u001B[0m, line \u001B[1;32m353\u001B[0m, in \u001B[1;35meval\u001B[0m\n    parsed_expr = Expr(expr, engine=engine, parser=parser, env=env)\n",
      "  File \u001B[1;32m\"/Users/mvkairov/mambaforge/envs/tf_env/lib/python3.9/site-packages/pandas/core/computation/expr.py\"\u001B[0m, line \u001B[1;32m813\u001B[0m, in \u001B[1;35m__init__\u001B[0m\n    self.terms = self.parse()\n",
      "  File \u001B[1;32m\"/Users/mvkairov/mambaforge/envs/tf_env/lib/python3.9/site-packages/pandas/core/computation/expr.py\"\u001B[0m, line \u001B[1;32m832\u001B[0m, in \u001B[1;35mparse\u001B[0m\n    return self._visitor.visit(self.expr)\n",
      "  File \u001B[1;32m\"/Users/mvkairov/mambaforge/envs/tf_env/lib/python3.9/site-packages/pandas/core/computation/expr.py\"\u001B[0m, line \u001B[1;32m411\u001B[0m, in \u001B[1;35mvisit\u001B[0m\n    raise e\n",
      "  File \u001B[1;32m\"/Users/mvkairov/mambaforge/envs/tf_env/lib/python3.9/site-packages/pandas/core/computation/expr.py\"\u001B[0m, line \u001B[1;32m407\u001B[0m, in \u001B[1;35mvisit\u001B[0m\n    node = ast.fix_missing_locations(ast.parse(clean))\n",
      "\u001B[0;36m  File \u001B[0;32m\"/Users/mvkairov/mambaforge/envs/tf_env/lib/python3.9/ast.py\"\u001B[0;36m, line \u001B[0;32m50\u001B[0;36m, in \u001B[0;35mparse\u001B[0;36m\u001B[0m\n\u001B[0;31m    return compile(source, filename, mode, flags,\u001B[0m\n",
      "\u001B[0;36m  File \u001B[0;32m\"<unknown>\"\u001B[0;36m, line \u001B[0;32m1\u001B[0m\n\u001B[0;31m    (Word =='world's ')and (Text_ID ==1 )\u001B[0m\n\u001B[0m                   ^\u001B[0m\n\u001B[0;31mSyntaxError\u001B[0m\u001B[0;31m:\u001B[0m invalid syntax\n"
     ]
    }
   ],
   "source": [
    "X, y = split.split_by_unique_values(split_cols=['Word', 'Text_ID'], resample=None, test_size=0)"
   ],
   "metadata": {
    "collapsed": false,
    "ExecuteTime": {
     "start_time": "2023-04-19T14:10:05.553222Z",
     "end_time": "2023-04-19T14:10:11.020035Z"
    }
   }
  },
  {
   "cell_type": "code",
   "execution_count": 8,
   "outputs": [
    {
     "data": {
      "text/plain": "[<matplotlib.lines.Line2D at 0x1676d07c0>]"
     },
     "execution_count": 8,
     "metadata": {},
     "output_type": "execute_result"
    },
    {
     "data": {
      "text/plain": "<Figure size 432x288 with 1 Axes>",
      "image/png": "[encoded data removed]"
     },
     "metadata": {
      "needs_background": "light"
     },
     "output_type": "display_data"
    }
   ],
   "source": [
    "from matplotlib import pyplot as plt\n",
    "\n",
    "plt.plot([len(a) for a in X])"
   ],
   "metadata": {
    "collapsed": false,
    "ExecuteTime": {
     "start_time": "2023-04-19T14:11:58.487419Z",
     "end_time": "2023-04-19T14:11:59.128231Z"
    }
   }
  },
  {
   "cell_type": "code",
   "execution_count": null,
   "outputs": [],
   "source": [],
   "metadata": {
    "collapsed": false
   }
  }
 ],
 "metadata": {
  "kernelspec": {
   "name": "tf_env",
   "language": "python",
   "display_name": "tf_env"
  },
  "language_info": {
   "codemirror_mode": {
    "name": "ipython",
    "version": 2
   },
   "file_extension": ".py",
   "mimetype": "text/x-python",
   "name": "python",
   "nbconvert_exporter": "python",
   "pygments_lexer": "ipython2",
   "version": "2.7.6"
  }
 },
 "nbformat": 4,
 "nbformat_minor": 0
}
