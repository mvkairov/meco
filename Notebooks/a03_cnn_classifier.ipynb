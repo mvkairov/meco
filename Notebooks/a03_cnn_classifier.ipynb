{
 "cells": [
  {
   "cell_type": "code",
   "execution_count": 1,
   "outputs": [],
   "source": [
    "import pandas as pd\n",
    "from Preprocessing.MECO_data_split import concat_MECO_langs\n",
    "\n",
    "ru = concat_MECO_langs(['ru'])"
   ],
   "metadata": {
    "collapsed": false
   }
  },
  {
   "cell_type": "code",
   "execution_count": 5,
   "outputs": [
    {
     "data": {
      "text/plain": "        Text_ID  Fix_X  Fix_Y  Fix_Duration  Word_Number          Word  \\\n0             1     79    104           221            1        Samuel   \n1             1    118    101           289            1        Samuel   \n2             1    247     92           337            2        Morse,   \n3             1    336    118           281            3          best   \n4             1    416    125           250            4         known   \n...         ...    ...    ...           ...          ...           ...   \n184786       12    388    585           151          145  connectivity   \n184787       12    480    585           170          145  connectivity   \n184788       12    589    584           196          146            in   \n184789       12    643    588           147          147      personal   \n184790       12    757    591           257          148        lives.   \n\n                    Sentence Language SubjectID  L2_spelling_skill  ...  \\\n0       Samuel Morse, best k       ru     rum_1           4.431818  ...   \n1       Samuel Morse, best k       ru     rum_1           4.431818  ...   \n2       Samuel Morse, best k       ru     rum_1           4.431818  ...   \n3       Samuel Morse, best k       ru     rum_1           4.431818  ...   \n4       Samuel Morse, best k       ru     rum_1           4.431818  ...   \n...                      ...      ...       ...                ...  ...   \n184786  This fusion of capab       ru     ru_55           4.318182  ...   \n184787  This fusion of capab       ru     ru_55           4.318182  ...   \n184788  This fusion of capab       ru     ru_55           4.318182  ...   \n184789  This fusion of capab       ru     ru_55           4.318182  ...   \n184790  This fusion of capab       ru     ru_55           4.318182  ...   \n\n        vocab.t2.5  L2_lexical_skill  TOWRE_word  TOWRE_nonword  motiv   IQ  \\\n0              4.5            4.0625    3.798077       4.523810    3.7  7.0   \n1              4.5            4.0625    3.798077       4.523810    3.7  7.0   \n2              4.5            4.0625    3.798077       4.523810    3.7  7.0   \n3              4.5            4.0625    3.798077       4.523810    3.7  7.0   \n4              4.5            4.0625    3.798077       4.523810    3.7  7.0   \n...            ...               ...         ...            ...    ...  ...   \n184786         3.0            3.7500    4.759615       4.603175    3.4  8.0   \n184787         3.0            3.7500    4.759615       4.603175    3.4  8.0   \n184788         3.0            3.7500    4.759615       4.603175    3.4  8.0   \n184789         3.0            3.7500    4.759615       4.603175    3.4  8.0   \n184790         3.0            3.7500    4.759615       4.603175    3.4  8.0   \n\n        Age  Sex  Target_Ave  Target_Label  \n0        30    0    4.144367           4.0  \n1        30    0    4.144367           4.0  \n2        30    0    4.144367           4.0  \n3        30    0    4.144367           4.0  \n4        30    0    4.144367           4.0  \n...     ...  ...         ...           ...  \n184786   29    1    3.605162           4.0  \n184787   29    1    3.605162           4.0  \n184788   29    1    3.605162           4.0  \n184789   29    1    3.605162           4.0  \n184790   29    1    3.605162           4.0  \n\n[184791 rows x 21 columns]",
      "text/html": "<div>\n<style scoped>\n    .dataframe tbody tr th:only-of-type {\n        vertical-align: middle;\n    }\n\n    .dataframe tbody tr th {\n        vertical-align: top;\n    }\n\n    .dataframe thead th {\n        text-align: right;\n    }\n</style>\n<table border=\"1\" class=\"dataframe\">\n  <thead>\n    <tr style=\"text-align: right;\">\n      <th></th>\n      <th>Text_ID</th>\n      <th>Fix_X</th>\n      <th>Fix_Y</th>\n      <th>Fix_Duration</th>\n      <th>Word_Number</th>\n      <th>Word</th>\n      <th>Sentence</th>\n      <th>Language</th>\n      <th>SubjectID</th>\n      <th>L2_spelling_skill</th>\n      <th>...</th>\n      <th>vocab.t2.5</th>\n      <th>L2_lexical_skill</th>\n      <th>TOWRE_word</th>\n      <th>TOWRE_nonword</th>\n      <th>motiv</th>\n      <th>IQ</th>\n      <th>Age</th>\n      <th>Sex</th>\n      <th>Target_Ave</th>\n      <th>Target_Label</th>\n    </tr>\n  </thead>\n  <tbody>\n    <tr>\n      <th>0</th>\n      <td>1</td>\n      <td>79</td>\n      <td>104</td>\n      <td>221</td>\n      <td>1</td>\n      <td>Samuel</td>\n      <td>Samuel Morse, best k</td>\n      <td>ru</td>\n      <td>rum_1</td>\n      <td>4.431818</td>\n      <td>...</td>\n      <td>4.5</td>\n      <td>4.0625</td>\n      <td>3.798077</td>\n      <td>4.523810</td>\n      <td>3.7</td>\n      <td>7.0</td>\n      <td>30</td>\n      <td>0</td>\n      <td>4.144367</td>\n      <td>4.0</td>\n    </tr>\n    <tr>\n      <th>1</th>\n      <td>1</td>\n      <td>118</td>\n      <td>101</td>\n      <td>289</td>\n      <td>1</td>\n      <td>Samuel</td>\n      <td>Samuel Morse, best k</td>\n      <td>ru</td>\n      <td>rum_1</td>\n      <td>4.431818</td>\n      <td>...</td>\n      <td>4.5</td>\n      <td>4.0625</td>\n      <td>3.798077</td>\n      <td>4.523810</td>\n      <td>3.7</td>\n      <td>7.0</td>\n      <td>30</td>\n      <td>0</td>\n      <td>4.144367</td>\n      <td>4.0</td>\n    </tr>\n    <tr>\n      <th>2</th>\n      <td>1</td>\n      <td>247</td>\n      <td>92</td>\n      <td>337</td>\n      <td>2</td>\n      <td>Morse,</td>\n      <td>Samuel Morse, best k</td>\n      <td>ru</td>\n      <td>rum_1</td>\n      <td>4.431818</td>\n      <td>...</td>\n      <td>4.5</td>\n      <td>4.0625</td>\n      <td>3.798077</td>\n      <td>4.523810</td>\n      <td>3.7</td>\n      <td>7.0</td>\n      <td>30</td>\n      <td>0</td>\n      <td>4.144367</td>\n      <td>4.0</td>\n    </tr>\n    <tr>\n      <th>3</th>\n      <td>1</td>\n      <td>336</td>\n      <td>118</td>\n      <td>281</td>\n      <td>3</td>\n      <td>best</td>\n      <td>Samuel Morse, best k</td>\n      <td>ru</td>\n      <td>rum_1</td>\n      <td>4.431818</td>\n      <td>...</td>\n      <td>4.5</td>\n      <td>4.0625</td>\n      <td>3.798077</td>\n      <td>4.523810</td>\n      <td>3.7</td>\n      <td>7.0</td>\n      <td>30</td>\n      <td>0</td>\n      <td>4.144367</td>\n      <td>4.0</td>\n    </tr>\n    <tr>\n      <th>4</th>\n      <td>1</td>\n      <td>416</td>\n      <td>125</td>\n      <td>250</td>\n      <td>4</td>\n      <td>known</td>\n      <td>Samuel Morse, best k</td>\n      <td>ru</td>\n      <td>rum_1</td>\n      <td>4.431818</td>\n      <td>...</td>\n      <td>4.5</td>\n      <td>4.0625</td>\n      <td>3.798077</td>\n      <td>4.523810</td>\n      <td>3.7</td>\n      <td>7.0</td>\n      <td>30</td>\n      <td>0</td>\n      <td>4.144367</td>\n      <td>4.0</td>\n    </tr>\n    <tr>\n      <th>...</th>\n      <td>...</td>\n      <td>...</td>\n      <td>...</td>\n      <td>...</td>\n      <td>...</td>\n      <td>...</td>\n      <td>...</td>\n      <td>...</td>\n      <td>...</td>\n      <td>...</td>\n      <td>...</td>\n      <td>...</td>\n      <td>...</td>\n      <td>...</td>\n      <td>...</td>\n      <td>...</td>\n      <td>...</td>\n      <td>...</td>\n      <td>...</td>\n      <td>...</td>\n      <td>...</td>\n    </tr>\n    <tr>\n      <th>184786</th>\n      <td>12</td>\n      <td>388</td>\n      <td>585</td>\n      <td>151</td>\n      <td>145</td>\n      <td>connectivity</td>\n      <td>This fusion of capab</td>\n      <td>ru</td>\n      <td>ru_55</td>\n      <td>4.318182</td>\n      <td>...</td>\n      <td>3.0</td>\n      <td>3.7500</td>\n      <td>4.759615</td>\n      <td>4.603175</td>\n      <td>3.4</td>\n      <td>8.0</td>\n      <td>29</td>\n      <td>1</td>\n      <td>3.605162</td>\n      <td>4.0</td>\n    </tr>\n    <tr>\n      <th>184787</th>\n      <td>12</td>\n      <td>480</td>\n      <td>585</td>\n      <td>170</td>\n      <td>145</td>\n      <td>connectivity</td>\n      <td>This fusion of capab</td>\n      <td>ru</td>\n      <td>ru_55</td>\n      <td>4.318182</td>\n      <td>...</td>\n      <td>3.0</td>\n      <td>3.7500</td>\n      <td>4.759615</td>\n      <td>4.603175</td>\n      <td>3.4</td>\n      <td>8.0</td>\n      <td>29</td>\n      <td>1</td>\n      <td>3.605162</td>\n      <td>4.0</td>\n    </tr>\n    <tr>\n      <th>184788</th>\n      <td>12</td>\n      <td>589</td>\n      <td>584</td>\n      <td>196</td>\n      <td>146</td>\n      <td>in</td>\n      <td>This fusion of capab</td>\n      <td>ru</td>\n      <td>ru_55</td>\n      <td>4.318182</td>\n      <td>...</td>\n      <td>3.0</td>\n      <td>3.7500</td>\n      <td>4.759615</td>\n      <td>4.603175</td>\n      <td>3.4</td>\n      <td>8.0</td>\n      <td>29</td>\n      <td>1</td>\n      <td>3.605162</td>\n      <td>4.0</td>\n    </tr>\n    <tr>\n      <th>184789</th>\n      <td>12</td>\n      <td>643</td>\n      <td>588</td>\n      <td>147</td>\n      <td>147</td>\n      <td>personal</td>\n      <td>This fusion of capab</td>\n      <td>ru</td>\n      <td>ru_55</td>\n      <td>4.318182</td>\n      <td>...</td>\n      <td>3.0</td>\n      <td>3.7500</td>\n      <td>4.759615</td>\n      <td>4.603175</td>\n      <td>3.4</td>\n      <td>8.0</td>\n      <td>29</td>\n      <td>1</td>\n      <td>3.605162</td>\n      <td>4.0</td>\n    </tr>\n    <tr>\n      <th>184790</th>\n      <td>12</td>\n      <td>757</td>\n      <td>591</td>\n      <td>257</td>\n      <td>148</td>\n      <td>lives.</td>\n      <td>This fusion of capab</td>\n      <td>ru</td>\n      <td>ru_55</td>\n      <td>4.318182</td>\n      <td>...</td>\n      <td>3.0</td>\n      <td>3.7500</td>\n      <td>4.759615</td>\n      <td>4.603175</td>\n      <td>3.4</td>\n      <td>8.0</td>\n      <td>29</td>\n      <td>1</td>\n      <td>3.605162</td>\n      <td>4.0</td>\n    </tr>\n  </tbody>\n</table>\n<p>184791 rows × 21 columns</p>\n</div>"
     },
     "execution_count": 5,
     "metadata": {},
     "output_type": "execute_result"
    }
   ],
   "source": [
    "ru"
   ],
   "metadata": {
    "collapsed": false
   }
  },
  {
   "cell_type": "code",
   "execution_count": 1,
   "metadata": {
    "collapsed": true
   },
   "outputs": [],
   "source": [
    "from Preprocessing.MECO_data_split import MECODataSplit\n",
    "from sklearn.model_selection import train_test_split\n",
    "from keras import Sequential\n",
    "from keras.layers import Conv1D, Dropout, MaxPooling1D, Flatten, Dense\n",
    "from keras.utils import to_categorical\n",
    "import tensorflow as tf\n",
    "tf.config.set_visible_devices([], 'GPU')"
   ]
  },
  {
   "cell_type": "code",
   "execution_count": 23,
   "outputs": [],
   "source": [
    "dataset = MECODataSplit(['ru'])\n",
    "X, y = dataset.split_by_unique_values(split_cols=['SubjectID', 'Text_ID'],\n",
    "                                      include_cols='fix',\n",
    "                                      test_size=0, fix_threshold=0,\n",
    "                                      resample='truncate', series_length=200)"
   ],
   "metadata": {
    "collapsed": false
   }
  },
  {
   "cell_type": "code",
   "execution_count": 24,
   "outputs": [
    {
     "name": "stdout",
     "output_type": "stream",
     "text": [
      "(331, 200, 3) (331, 1)\n"
     ]
    }
   ],
   "source": [
    "print(X.shape, y.shape)"
   ],
   "metadata": {
    "collapsed": false
   }
  },
  {
   "cell_type": "code",
   "execution_count": 25,
   "outputs": [],
   "source": [
    "y = to_categorical(y)\n",
    "X_train, X_test, y_train, y_test = train_test_split(X, y, test_size=0.2, shuffle=False)"
   ],
   "metadata": {
    "collapsed": false
   }
  },
  {
   "cell_type": "code",
   "execution_count": 26,
   "outputs": [],
   "source": [
    "n_timesteps, n_features, n_outputs = X_train.shape[1], X_train.shape[2], y_train.shape[1]"
   ],
   "metadata": {
    "collapsed": false
   }
  },
  {
   "cell_type": "code",
   "execution_count": 27,
   "outputs": [],
   "source": [
    "def train_model(conv_filters=64, kernel_size=3, strides=1, dropout_rate=0.5, pool_size=2, epochs=10, batch_size=32):\n",
    "    model = Sequential()\n",
    "    model.add(Conv1D(filters=conv_filters, kernel_size=kernel_size, strides=strides,\n",
    "                     activation='relu', input_shape=(n_timesteps, n_features)))\n",
    "    model.add(Conv1D(filters=conv_filters, kernel_size=kernel_size, strides=strides, activation='relu'))\n",
    "    model.add(MaxPooling1D(pool_size=pool_size))\n",
    "    model.add(Dropout(dropout_rate))\n",
    "    model.add(Flatten())\n",
    "    model.add(Dense(100, activation='relu'))\n",
    "    model.add(Dense(n_outputs, activation='softmax'))\n",
    "    model.compile(loss='categorical_crossentropy', optimizer='adam', metrics=['accuracy'])\n",
    "    model.fit(X_train, y_train, epochs=epochs, batch_size=batch_size)\n",
    "\n",
    "    return model"
   ],
   "metadata": {
    "collapsed": false
   }
  },
  {
   "cell_type": "code",
   "execution_count": 34,
   "outputs": [
    {
     "name": "stdout",
     "output_type": "stream",
     "text": [
      "Epoch 1/8\n",
      "9/9 [==============================] - 1s 10ms/step - loss: 301.1114 - accuracy: 0.4432\n",
      "Epoch 2/8\n",
      "9/9 [==============================] - 0s 9ms/step - loss: 88.0619 - accuracy: 0.5227\n",
      "Epoch 3/8\n",
      "9/9 [==============================] - 0s 9ms/step - loss: 48.5254 - accuracy: 0.4394\n",
      "Epoch 4/8\n",
      "9/9 [==============================] - 0s 12ms/step - loss: 14.9311 - accuracy: 0.6364\n",
      "Epoch 5/8\n",
      "9/9 [==============================] - 0s 22ms/step - loss: 6.4151 - accuracy: 0.6705\n",
      "Epoch 6/8\n",
      "9/9 [==============================] - 0s 16ms/step - loss: 2.1082 - accuracy: 0.7841\n",
      "Epoch 7/8\n",
      "9/9 [==============================] - 0s 11ms/step - loss: 1.3995 - accuracy: 0.7614\n",
      "Epoch 8/8\n",
      "9/9 [==============================] - 0s 12ms/step - loss: 0.9329 - accuracy: 0.7841\n"
     ]
    }
   ],
   "source": [
    "cnn = train_model(epochs=8, batch_size=32, dropout_rate=0.5, conv_filters=64, kernel_size=3)"
   ],
   "metadata": {
    "collapsed": false
   }
  },
  {
   "cell_type": "code",
   "execution_count": 35,
   "outputs": [
    {
     "name": "stdout",
     "output_type": "stream",
     "text": [
      "9/9 [==============================] - 0s 3ms/step - loss: 0.2663 - accuracy: 0.8864\n"
     ]
    }
   ],
   "source": [
    "loss, accuracy = cnn.evaluate(X_train, y_train)"
   ],
   "metadata": {
    "collapsed": false
   }
  },
  {
   "cell_type": "code",
   "execution_count": 8,
   "outputs": [],
   "source": [],
   "metadata": {
    "collapsed": false
   }
  }
 ],
 "metadata": {
  "kernelspec": {
   "name": "conda-env-ml_env-py",
   "language": "python",
   "display_name": "Python [conda env:ml_env]"
  },
  "language_info": {
   "codemirror_mode": {
    "name": "ipython",
    "version": 2
   },
   "file_extension": ".py",
   "mimetype": "text/x-python",
   "name": "python",
   "nbconvert_exporter": "python",
   "pygments_lexer": "ipython2",
   "version": "2.7.6"
  }
 },
 "nbformat": 4,
 "nbformat_minor": 0
}
