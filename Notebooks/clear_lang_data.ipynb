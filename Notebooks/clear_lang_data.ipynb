{
 "cells": [
  {
   "cell_type": "code",
   "execution_count": 1,
   "outputs": [],
   "source": [
    "import pandas as pd"
   ],
   "metadata": {
    "collapsed": false
   }
  },
  {
   "cell_type": "code",
   "execution_count": 2,
   "outputs": [],
   "source": [
    "lang_list = ['du', 'ee', 'en', 'fi', 'ge', 'gr', 'he', 'it', 'no', 'ru', 'sp', 'tr']"
   ],
   "metadata": {
    "collapsed": false
   }
  },
  {
   "cell_type": "code",
   "execution_count": 13,
   "outputs": [
    {
     "data": {
      "text/plain": "{'DU_04': 'du_4',\n 'DU_05': 'du_5',\n 'DU_06': 'du_6',\n 'DU_07': 'du_7',\n 'DU_08': 'du_8',\n 'DU_10': 'du_10',\n 'DU_11': 'du_11',\n 'DU_12': 'du_12',\n 'DU_13': 'du_13',\n 'DU_14': 'du_14',\n 'DU_18': 'du_18',\n 'DU_19': 'du_19',\n 'DU_20': 'du_20',\n 'DU_21': 'du_21',\n 'DU_22': 'du_22',\n 'DU_23': 'du_23',\n 'DU_24': 'du_24',\n 'DU_25': 'du_25',\n 'DU_27': 'du_27',\n 'DU_28': 'du_28',\n 'DU_29': 'du_29',\n 'DU_30': 'du_30',\n 'DU_31': 'du_31',\n 'DU_32': 'du_32',\n 'DU_33': 'du_33',\n 'DU_34': 'du_34',\n 'DU_35': 'du_35',\n 'DU_36': 'du_36',\n 'DU_37': 'du_37',\n 'DU_38': 'du_38',\n 'DU_40': 'du_40',\n 'DU_41': 'du_41',\n 'DU_42': 'du_42',\n 'DU_43': 'du_43',\n 'DU_44': 'du_44',\n 'DU_45': 'du_45',\n 'DU_46': 'du_46',\n 'DU_47': 'du_47',\n 'DU_48': 'du_48',\n 'DU_49': 'du_49',\n 'DU_50': 'du_50',\n 'DU_51': 'du_51',\n 'DU_53': 'du_53',\n 'DU_54': 'du_54',\n 'DU_55': 'du_55',\n 'DU_56': 'du_56',\n 'DU_57': 'du_57',\n 'ee_01': 'ee_1',\n 'ee_02': 'ee_2',\n 'ee_03': 'ee_3',\n 'ee_04': 'ee_4',\n 'ee_07': 'ee_7',\n 'ee_09': 'ee_9',\n 'ee_12': 'ee_12',\n 'ee_14': 'ee_14',\n 'ee_15': 'ee_15',\n 'ee_16': 'ee_16',\n 'ee_17': 'ee_17',\n 'ee_19': 'ee_19',\n 'ee_21': 'ee_21',\n 'ee_22': 'ee_22',\n 'ee_24': 'ee_24',\n 'ee_27': 'ee_27',\n 'ee_28': 'ee_28',\n 'ee_29': 'ee_29',\n 'ee_30': 'ee_30',\n 'ee_31': 'ee_31',\n 'ee_32': 'ee_32',\n 'ee_33': 'ee_33',\n 'ee_34': 'ee_34',\n 'ee_35': 'ee_35',\n 'ee_36': 'ee_36',\n 'ee_37': 'ee_37',\n 'ee_39': 'ee_39',\n 'ee_41': 'ee_41',\n 'ee_42': 'ee_42',\n 'ee_43': 'ee_43',\n 'ee_44': 'ee_44',\n 'ee_45': 'ee_45',\n 'ee_47': 'ee_47',\n 'ee_51': 'ee_51',\n 'ee_52': 'ee_52',\n 'ee_54': 'ee_54',\n 'ee_55': 'ee_55',\n 'ee_56': 'ee_56',\n 'ee_57': 'ee_57',\n 'ee_58': 'ee_58',\n 'ee_59': 'ee_59',\n 'ee_60': 'ee_60',\n 'ee_61': 'ee_61',\n 'ee_62': 'ee_62',\n 'ee_63': 'ee_63',\n 'ee_68': 'ee_68',\n 'ee_69': 'ee_69',\n 'ee_70': 'ee_70',\n 'ee_71': 'ee_71',\n 'ee_72': 'ee_72',\n 'ee_73': 'ee_73',\n 'ee_74': 'ee_74',\n 'ee_75': 'ee_75',\n 'ee_76': 'ee_76',\n 'ee_77': 'ee_77',\n 'ee_78': 'ee_78',\n 'ee_79': 'ee_79',\n 'ee_80': 'ee_80',\n 'fi-06': 'fi_6',\n 'fi-07': 'fi_7',\n 'fi-08': 'fi_8',\n 'fi-09': 'fi_9',\n 'fi-1': 'fi_1',\n 'fi-11': 'fi_11',\n 'fi-12': 'fi_12',\n 'fi-13': 'fi_13',\n 'fi-14': 'fi_14',\n 'fi-15': 'fi_15',\n 'fi-16': 'fi_16',\n 'fi-17': 'fi_17',\n 'fi-18': 'fi_18',\n 'fi-19': 'fi_19',\n 'fi-2': 'fi_2',\n 'fi-20': 'fi_20',\n 'fi-21': 'fi_21',\n 'fi-23': 'fi_23',\n 'fi-24': 'fi_24',\n 'fi-25': 'fi_25',\n 'fi-26': 'fi_26',\n 'fi-27': 'fi_27',\n 'fi-28': 'fi_28',\n 'fi-3': 'fi_3',\n 'fi-30': 'fi_30',\n 'fi-33': 'fi_33',\n 'fi-34': 'fi_34',\n 'fi-35': 'fi_35',\n 'fi-38': 'fi_38',\n 'fi-39': 'fi_39',\n 'fi-4': 'fi_4',\n 'fi-42': 'fi_42',\n 'fi-43': 'fi_43',\n 'fi-44': 'fi_44',\n 'fi-45': 'fi_45',\n 'fi-46': 'fi_46',\n 'fi-47': 'fi_47',\n 'fi-48': 'fi_48',\n 'fi-49': 'fi_49',\n 'fi-50': 'fi_50',\n 'fi-51': 'fi_51',\n 'fi-52': 'fi_52',\n 'fi-54': 'fi_54',\n 'fi-55': 'fi_55',\n 'fi-56': 'fi_56',\n 'fi-58': 'fi_58',\n 'ger01': 'ge_1',\n 'ger02': 'ge_2',\n 'ger03': 'ge_3',\n 'ger04': 'ge_4',\n 'ger05': 'ge_5',\n 'ger06': 'ge_6',\n 'ger08': 'ge_8',\n 'ger09': 'ge_9',\n 'ger10': 'ge_10',\n 'ger11': 'ge_11',\n 'ger13': 'ge_13',\n 'ger14': 'ge_14',\n 'ger15': 'ge_15',\n 'ger16': 'ge_16',\n 'ger17': 'ge_17',\n 'ger18': 'ge_18',\n 'ger19': 'ge_19',\n 'ger21': 'ge_21',\n 'ger22': 'ge_22',\n 'ger23': 'ge_23',\n 'ger24': 'ge_24',\n 'ger25': 'ge_25',\n 'ger26': 'ge_26',\n 'ger28': 'ge_28',\n 'ger29': 'ge_29',\n 'ger30': 'ge_30',\n 'ger31': 'ge_31',\n 'ger32': 'ge_32',\n 'ger33': 'ge_33',\n 'ger36': 'ge_36',\n 'ger37': 'ge_37',\n 'ger38': 'ge_38',\n 'ger39': 'ge_39',\n 'ger40': 'ge_40',\n 'ger41': 'ge_41',\n 'ger42': 'ge_42',\n 'ger44': 'ge_44',\n 'ger45': 'ge_45',\n 'ger47': 'ge_47',\n 'ger48': 'ge_48',\n 'ger49': 'ge_49',\n 'ger50': 'ge_50',\n 'ger51': 'ge_51',\n 'ger54': 'ge_54',\n 'Gr-02': 'gr_2',\n 'Gr-06': 'gr_6',\n 'Gr-07': 'gr_7',\n 'Gr-09': 'gr_9',\n 'Gr-10': 'gr_10',\n 'Gr-11': 'gr_11',\n 'Gr-12': 'gr_12',\n 'Gr-13': 'gr_13',\n 'Gr-15': 'gr_15',\n 'Gr-17': 'gr_17',\n 'Gr-19': 'gr_19',\n 'Gr-20': 'gr_20',\n 'Gr-21': 'gr_21',\n 'Gr-22': 'gr_22',\n 'Gr-26': 'gr_26',\n 'Gr-30': 'gr_30',\n 'Gr-31': 'gr_31',\n 'Gr-32': 'gr_32',\n 'Gr-34': 'gr_34',\n 'Gr-36': 'gr_36',\n 'Gr-37': 'gr_37',\n 'Gr-40': 'gr_40',\n 'Gr-43': 'gr_43',\n 'Gr-45': 'gr_45',\n 'Gr-49': 'gr_49',\n 'Gr-50': 'gr_50',\n 'Gr-51': 'gr_51',\n 'Gr-52': 'gr_52',\n 'Gr-54': 'gr_54',\n 'Gr-56': 'gr_56',\n 'Gr-58': 'gr_58',\n 'Gr-59': 'gr_59',\n 'Gr-61': 'gr_61',\n 'Gr-62': 'gr_62',\n 'Gr-63': 'gr_63',\n 'Gr-64': 'gr_64',\n 'Gr-65': 'gr_65',\n 'Gr-67': 'gr_67',\n 'Gr-68': 'gr_68',\n 'Gr-69': 'gr_69',\n 'Gr-70': 'gr_70',\n 'Gr-71': 'gr_71',\n 'Gr-72': 'gr_72',\n 'Gr-74': 'gr_74',\n 'Gr-75': 'gr_75',\n 'Gr-76': 'gr_76',\n 'Gr-77': 'gr_77',\n 'HEB1': 'he_1',\n 'HEB10': 'he_10',\n 'HEB11': 'he_11',\n 'HEB12': 'he_12',\n 'HEB13': 'he_13',\n 'HEB14': 'he_14',\n 'HEB17': 'he_17',\n 'HEB18': 'he_18',\n 'HEB2': 'he_2',\n 'HEB20': 'he_20',\n 'HEB22': 'he_22',\n 'HEB24': 'he_24',\n 'HEB25': 'he_25',\n 'HEB27': 'he_27',\n 'HEB30': 'he_30',\n 'HEB31': 'he_31',\n 'HEB33': 'he_33',\n 'HEB34': 'he_34',\n 'HEB35': 'he_35',\n 'HEB36': 'he_36',\n 'HEB37': 'he_37',\n 'HEB38': 'he_38',\n 'HEB39': 'he_39',\n 'HEB40': 'he_40',\n 'HEB41': 'he_41',\n 'HEB43': 'he_43',\n 'HEB44': 'he_44',\n 'HEB45': 'he_45',\n 'HEB46': 'he_46',\n 'HEB47': 'he_47',\n 'HEB49': 'he_49',\n 'HEB50': 'he_50',\n 'HEB52': 'he_52',\n 'HEB53': 'he_53',\n 'HEB55': 'he_55',\n 'HEB56': 'he_56',\n 'HEB58': 'he_58',\n 'HEB59': 'he_59',\n 'HEB6': 'he_6',\n 'HEB60': 'he_60',\n 'HEB61': 'he_61',\n 'HEB63': 'he_63',\n 'HEB65': 'he_65',\n 'HEB7': 'he_7',\n 'HEB8': 'he_8',\n 'ITA_003': 'it_3',\n 'ITA_004': 'it_4',\n 'ITA_005': 'it_5',\n 'ITA_006': 'it_6',\n 'ITA_007': 'it_7',\n 'ITA_008': 'it_8',\n 'ITA_009': 'it_9',\n 'ITA_010': 'it_10',\n 'ITA_011': 'it_11',\n 'ITA_012': 'it_12',\n 'ITA_013': 'it_13',\n 'ITA_014': 'it_14',\n 'ITA_015': 'it_15',\n 'ITA_017': 'it_17',\n 'ITA_019': 'it_19',\n 'ITA_020': 'it_20',\n 'ITA_021': 'it_21',\n 'ITA_022': 'it_22',\n 'ITA_023': 'it_23',\n 'ITA_024': 'it_24',\n 'ITA_025': 'it_25',\n 'ITA_026': 'it_26',\n 'ITA_028': 'it_28',\n 'ITA_029': 'it_29',\n 'ITA_030': 'it_30',\n 'ITA_031': 'it_31',\n 'ITA_032': 'it_32',\n 'ITA_033': 'it_33',\n 'ITA_034': 'it_34',\n 'ITA_035': 'it_35',\n 'ITA_036': 'it_36',\n 'ITA_037': 'it_37',\n 'ITA_038': 'it_38',\n 'ITA_039': 'it_39',\n 'ITA_040': 'it_40',\n 'ITA_041': 'it_41',\n 'ITA_042': 'it_42',\n 'ITA_043': 'it_43',\n 'ITA_045': 'it_45',\n 'ITA_046': 'it_46',\n 'ITA_047': 'it_47',\n 'ITA_048': 'it_48',\n 'ITA_049': 'it_49',\n 'ITA_050': 'it_50',\n 'ITA_051': 'it_51',\n 'ITA_052': 'it_52',\n 'ITA_053': 'it_53',\n 'ITA_054': 'it_54',\n 'ITA_057': 'it_57',\n 'ITA_059': 'it_59',\n 'ITA_s_01': 'it_1',\n 'macmo03': 'en_3',\n 'macmo04': 'en_4',\n 'macmo05': 'en_5',\n 'macmo06': 'en_6',\n 'macmo10': 'en_10',\n 'macmo101': 'en_101',\n 'macmo102': 'en_102',\n 'macmo11': 'en_11',\n 'macmo19': 'en_19',\n 'macmo21': 'en_21',\n 'macmo26': 'en_26',\n 'macmo27': 'en_27',\n 'macmo28': 'en_28',\n 'macmo30': 'en_30',\n 'macmo38': 'en_38',\n 'macmo39': 'en_39',\n 'macmo47': 'en_47',\n 'macmo51': 'en_51',\n 'macmo54': 'en_54',\n 'macmo55': 'en_55',\n 'macmo60': 'en_60',\n 'macmo61': 'en_61',\n 'macmo66': 'en_66',\n 'macmo70': 'en_70',\n 'macmo74': 'en_74',\n 'macmo77': 'en_77',\n 'macmo79': 'en_79',\n 'macmo80': 'en_80',\n 'macmo83': 'en_83',\n 'macmo84': 'en_84',\n 'macmo85': 'en_85',\n 'macmo86': 'en_86',\n 'macmo88': 'en_88',\n 'macmo89': 'en_89',\n 'macmo90': 'en_90',\n 'macmo91': 'en_91',\n 'macmo93': 'en_93',\n 'macmo94': 'en_94',\n 'macmo95': 'en_95',\n 'macmo98': 'en_98',\n 'macmo99': 'en_99',\n 'NO1064': 'no_6',\n 'NO1093': 'no_9',\n 'NO1119': 'no_11',\n 'NO1135': 'no_13',\n 'NO1156': 'no_15',\n 'NO1170': 'no_17',\n 'NO1181': 'no_18',\n 'NO1234': 'no_23',\n 'NO1300': 'no_30',\n 'NO1313': 'no_31',\n 'NO1337': 'no_33',\n 'NO1345': 'no_34',\n 'NO1368': 'no_36',\n 'NO1384': 'no_38',\n 'NO1428': 'no_42',\n 'NO1431': 'no_43',\n 'NO1444': 'no_44',\n 'NO1466': 'no_46',\n 'NO1490': 'no_49',\n 'NO1523': 'no_52',\n 'ru_10': 'ru_10',\n 'ru_11': 'ru_11',\n 'ru_12': 'ru_12',\n 'ru_13': 'ru_13',\n 'ru_14': 'ru_14',\n 'ru_15': 'ru_15',\n 'ru_16': 'ru_16',\n 'ru_17': 'ru_17',\n 'ru_18': 'ru_18',\n 'ru_19': 'ru_19',\n 'ru_2': 'ru_2',\n 'ru_20': 'ru_20',\n 'ru_21': 'ru_21',\n 'ru_22': 'ru_22',\n 'ru_24': 'ru_24',\n 'ru_25': 'ru_25',\n 'ru_26': 'ru_26',\n 'ru_27': 'ru_27',\n 'ru_29': 'ru_29',\n 'ru_30': 'ru_30',\n 'ru_31': 'ru_31',\n 'ru_35': 'ru_35',\n 'ru_36': 'ru_36',\n 'ru_38': 'ru_38',\n 'ru_4': 'ru_4',\n 'ru_40': 'ru_40',\n 'ru_41': 'ru_41',\n 'ru_43': 'ru_43',\n 'ru_44': 'ru_44',\n 'ru_46': 'ru_46',\n 'ru_47': 'ru_47',\n 'ru_48': 'ru_48',\n 'ru_49': 'ru_49',\n 'ru_50': 'ru_50',\n 'ru_51': 'ru_51',\n 'ru_53': 'ru_53',\n 'ru_54': 'ru_54',\n 'ru_55': 'ru_55',\n 'ru_56': 'ru_56',\n 'ru_6': 'ru_6',\n 'ru_8': 'ru_8',\n 'ru_9': 'ru_9',\n 'spa01': 'sp_1',\n 'spa02': 'sp_2',\n 'spa03': 'sp_3',\n 'spa04': 'sp_4',\n 'spa05': 'sp_5',\n 'spa08': 'sp_8',\n 'spa09': 'sp_9',\n 'spa11': 'sp_11',\n 'spa13': 'sp_13',\n 'spa15': 'sp_15',\n 'spa17': 'sp_17',\n 'spa20': 'sp_20',\n 'spa21': 'sp_21',\n 'spa24': 'sp_24',\n 'spa26': 'sp_26',\n 'spa28': 'sp_28',\n 'spa29': 'sp_29',\n 'spa32': 'sp_32',\n 'spa34': 'sp_34',\n 'spa35': 'sp_35',\n 'spa36': 'sp_36',\n 'spa37': 'sp_37',\n 'spa38': 'sp_38',\n 'spa40': 'sp_40',\n 'spa41': 'sp_41',\n 'spa42': 'sp_42',\n 'spa44': 'sp_44',\n 'spa45': 'sp_45',\n 'spa46': 'sp_46',\n 'spa47': 'sp_47',\n 'spa48': 'sp_48',\n 'spa50': 'sp_50',\n 'spa51': 'sp_51',\n 'spa53': 'sp_53',\n 'spa54': 'sp_54',\n 'spa55': 'sp_55',\n 'spa57': 'sp_57',\n 'spa59': 'sp_59',\n 'spa60': 'sp_60',\n 'spa62': 'sp_62',\n 'spa63': 'sp_63',\n 'tr_02': 'tr_2',\n 'tr_03': 'tr_3',\n 'tr_10': 'tr_10',\n 'tr_12': 'tr_12',\n 'tr_13': 'tr_13',\n 'tr_14': 'tr_14',\n 'tr_16': 'tr_16',\n 'tr_18': 'tr_18',\n 'tr_22': 'tr_22',\n 'tr_23': 'tr_23',\n 'tr_26': 'tr_26',\n 'tr_27': 'tr_27',\n 'tr_29': 'tr_29',\n 'tr_30': 'tr_30',\n 'tr_34': 'tr_34',\n 'tr_36': 'tr_36',\n 'tr_37': 'tr_37',\n 'tr_38': 'tr_38',\n 'tr_39': 'tr_39',\n 'tr_42': 'tr_42',\n 'tr_46': 'tr_46',\n 'tr_47': 'tr_47',\n 'tr_48': 'tr_48',\n 'tr_49': 'tr_49',\n 'tr_52': 'tr_52',\n 'rum_1': 'rum_1',\n 'rum_2': 'rum_2',\n 'rum_3': 'rum_3',\n 'rum_4': 'rum_4',\n 'rum_5': 'rum_5',\n 'rum_6': 'rum_6',\n 'rum_7': 'rum_7',\n 'rum_8': 'rum_8',\n 'rum_9': 'rum_9',\n 'rum_11': 'rum_11',\n 'rum_12': 'rum_12',\n 'rum_13': 'rum_13',\n 'rum_14': 'rum_14',\n 'rum_15': 'rum_15',\n 'rum_16': 'rum_16',\n 'rum_17': 'rum_17',\n 'rum_18': 'rum_18',\n 'rum_19': 'rum_19',\n 'rum_20': 'rum_20',\n 'rum_21': 'rum_21',\n 'rum_22': 'rum_22',\n 'rum_26': 'rum_26',\n 'rum_27': 'rum_27',\n 'rum_28': 'rum_28',\n 'rum_29': 'rum_29',\n 'rum_31': 'rum_31',\n 'rum_33': 'rum_33',\n 'rum_34': 'rum_34',\n 'rum_39': 'rum_39',\n 'rum_41': 'rum_41',\n 'rum_42': 'rum_42',\n 'rum_44': 'rum_44',\n 'rum_45': 'rum_45',\n 'rum_49': 'rum_49',\n 'rum_50': 'rum_50',\n 'rum_51': 'rum_51',\n 'rum_52': 'rum_52',\n 'rum_53': 'rum_53',\n 'rum_54': 'rum_54',\n 'rum_55': 'rum_55',\n 'rum_56': 'rum_56',\n 'rum_58': 'rum_58',\n 'rum_61': 'rum_61',\n 'rum_62': 'rum_62',\n 'rum_63': 'rum_63',\n 'rum_64': 'rum_64',\n 'rum_65': 'rum_65',\n 'rum_67': 'rum_67',\n 'rum_68': 'rum_68',\n 'rum_69': 'rum_69',\n 'rum_70': 'rum_70',\n 'rum_71': 'rum_71'}"
     },
     "execution_count": 13,
     "metadata": {},
     "output_type": "execute_result"
    }
   ],
   "source": [
    "demo_all_lang = pd.read_excel('../Datasets/MECO/demo_alllang.xlsx').dropna()\n",
    "subid_dict = dict(zip(demo_all_lang.subid, demo_all_lang.SubjectID))\n",
    "subid_dict"
   ],
   "metadata": {
    "collapsed": false
   }
  },
  {
   "cell_type": "code",
   "execution_count": 15,
   "outputs": [],
   "source": [
    "for lang in lang_list:\n",
    "    lang_data = pd.read_excel(f'../Datasets/MECO/DATA/{lang}_data.xlsx').dropna()\n",
    "    lang_data['SubjectID'] = lang_data['SubjectID'].map(subid_dict)\n",
    "    lang_data.dropna(inplace=True)\n",
    "    lang_data.to_excel(f'../Datasets/MECO/CLEAN_DATA/{lang}_data_clean.xlsx')"
   ],
   "metadata": {
    "collapsed": false
   }
  },
  {
   "cell_type": "code",
   "execution_count": null,
   "outputs": [],
   "source": [],
   "metadata": {
    "collapsed": false
   }
  }
 ],
 "metadata": {
  "kernelspec": {
   "name": "tf_env",
   "language": "python",
   "display_name": "tf_env"
  },
  "language_info": {
   "codemirror_mode": {
    "name": "ipython",
    "version": 2
   },
   "file_extension": ".py",
   "mimetype": "text/x-python",
   "name": "python",
   "nbconvert_exporter": "python",
   "pygments_lexer": "ipython2",
   "version": "2.7.6"
  }
 },
 "nbformat": 4,
 "nbformat_minor": 0
}
