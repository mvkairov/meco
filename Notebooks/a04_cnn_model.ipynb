{
 "cells": [
  {
   "cell_type": "code",
   "execution_count": 1,
   "metadata": {
    "collapsed": true
   },
   "outputs": [],
   "source": [
    "from MECO_data_split import MECODataSplit, concat_MECO_langs\n",
    "\n",
    "import tensorflow as tf\n",
    "tf.config.set_visible_devices([], 'GPU')"
   ]
  },
  {
   "cell_type": "code",
   "execution_count": 2,
   "outputs": [],
   "source": [
    "df = concat_MECO_langs('ru', path_to_data='../Datasets/DataToUse/')\n",
    "dataset = MECODataSplit(df)\n",
    "X, y = dataset.split_by_unique_values(split_cols=['SubjectID'],\n",
    "                                      include_cols='fix',\n",
    "                                      test_size=0, fix_threshold=0,\n",
    "                                      resample='truncate', series_length=800)"
   ],
   "metadata": {
    "collapsed": false
   }
  },
  {
   "cell_type": "code",
   "execution_count": 3,
   "outputs": [],
   "source": [
    "from keras.utils import to_categorical\n",
    "\n",
    "y = to_categorical(y)"
   ],
   "metadata": {
    "collapsed": false
   }
  },
  {
   "cell_type": "code",
   "execution_count": 10,
   "outputs": [],
   "source": [
    "from sklearn.model_selection import train_test_split\n",
    "X_train, X_test, y_train, y_test = train_test_split(X, y, test_size=0.2, shuffle=False)"
   ],
   "metadata": {
    "collapsed": false
   }
  },
  {
   "cell_type": "code",
   "execution_count": 17,
   "outputs": [
    {
     "data": {
      "text/plain": "array(['Samuel Morse, best k', 'While he was always',\n       'In 1825, Morse was i', 'Morse rushed to his',\n       'The message had take', 'Grief-stricken, he g',\n       'Leonardo da Vinci is', 'Even though most of',\n       'The parachute, the m', 'Over five hundred ye',\n       'The Amazon Rainfores', 'Areas of the rainfor',\n       'However, it is slowl', 'First, a significant',\n       'There are several co', 'Secondly, the rainfo',\n       'Without rainforests,', 'Howard Gardner was a',\n       'Basically, the theor', 'This is because peop',\n       'He argued that there', 'One type of intellig',\n       'People who possess t', 'Intrapersonal intell',\n       'They enjoy thinking', 'People who have ling',\n       'These people usually', 'The other types of i',\n       'The Internet has mad', 'There are several pr',\n       'Hackers can steal pe', 'One of the most obvi',\n       'Passwords are also a', 'First, they should b',\n       'Your first or last n', 'Longer passwords are',\n       'Finally, passwords s', 'This can make rememb',\n       'Many people fail to', 'It is usually sugges',\n       'Sleep has several be', 'First, it is believe',\n       'This is one reason w', 'On a related note, s',\n       'Those who get suffic', 'The reason for this',\n       \"A bird's feathers ar\", 'Birds in the wild pr',\n       'This is true of most', 'For example, some bi',\n       'This problem is most', 'Presumably, the abse',\n       'A more common proble', 'Some birds may pull',\n       'It should be noted t', 'There are several su',\n       'However, these measu', 'Hibernation in anima',\n       'However, it is quite', 'Usually, it is becau',\n       'Animals that are her', 'Hibernation is essen',\n       'Animals like birds r', 'Obviously, these wil',\n       'Many birds address t', 'At one time, the use',\n       'If a person suffered', 'They have also been',\n       'Today, leeches are s', 'Most often, leeches',\n       'This results in litt', 'When online file-sha',\n       'Perhaps the first wi', 'It allowed users to',\n       'Then, they could dow', 'Obviously, this was',\n       'Eventually, Napster', 'While it later reinv',\n       'Even though several', 'The pencil is a mode',\n       'Around 1560, an Ital', 'Their creation was f',\n       'Their plan involved', 'Shortly after, a bet',\n       'Although many people', 'Technology is rapidl',\n       'Professionals now ha', 'Businesspeople that',\n       'Individuals who simp', 'This fusion of capab',\n       'Finally, people who', 'Morse rushed to his ',\n       'While he was always ', 'Even though most of ',\n       'They enjoy thinking ', 'The reason for this ',\n       'Finally, people who ', 'Many people fail to ',\n       'Some birds may pull ', 'They have also been ',\n       'It allowed users to ', 'Obviously, this was ',\n       'Eventually, Napster ', 'Even though several ',\n       'Their plan involved ', 'Businesspeople that ', '1',\n       'Most often, leeches '], dtype=object)"
     },
     "execution_count": 17,
     "metadata": {},
     "output_type": "execute_result"
    }
   ],
   "source": [
    "# X, y = dataset.split_by_unique_values(split_cols=['Sentence'], include_cols='fix', test_size=0, fix_threshold=0,\n",
    "#                                       resample='truncate', series_length=10)\n",
    "\n",
    "import pandas as pd\n",
    "\n",
    "pd.unique(dataset.data['Sentence'])"
   ],
   "metadata": {
    "collapsed": false
   }
  },
  {
   "cell_type": "code",
   "execution_count": 12,
   "outputs": [],
   "source": [
    "n_timesteps, n_features, n_outputs = X_train.shape[1], X_train.shape[2], y_train.shape[1]"
   ],
   "metadata": {
    "collapsed": false
   }
  },
  {
   "cell_type": "code",
   "execution_count": 13,
   "outputs": [],
   "source": [
    "from keras import Sequential\n",
    "from keras.layers import Conv1D, Dropout, MaxPooling1D, Flatten, Dense\n",
    "\n",
    "def train_model(conv_filters=64, kernel_size=3, strides=1, dropout_rate=0.5, pool_size=2, epochs=10, batch_size=32):\n",
    "    model = Sequential()\n",
    "    model.add(Conv1D(filters=conv_filters, kernel_size=kernel_size, strides=strides,\n",
    "                     activation='relu', input_shape=(n_timesteps, n_features)))\n",
    "    model.add(Conv1D(filters=conv_filters, kernel_size=kernel_size, strides=strides, activation='relu'))\n",
    "    model.add(MaxPooling1D(pool_size=pool_size))\n",
    "    model.add(Dropout(dropout_rate))\n",
    "    model.add(Flatten())\n",
    "    model.add(Dense(100, activation='relu'))\n",
    "    model.add(Dense(n_outputs, activation='softmax'))\n",
    "    model.compile(loss='categorical_crossentropy', optimizer='adam', metrics=['accuracy'])\n",
    "    model.fit(X_train, y_train, epochs=epochs, batch_size=batch_size)\n",
    "\n",
    "    return model"
   ],
   "metadata": {
    "collapsed": false
   }
  },
  {
   "cell_type": "code",
   "execution_count": 14,
   "outputs": [
    {
     "name": "stdout",
     "output_type": "stream",
     "text": [
      "Epoch 1/15\n"
     ]
    },
    {
     "name": "stderr",
     "output_type": "stream",
     "text": [
      "2023-03-02 11:45:26.185583: W tensorflow/tsl/platform/profile_utils/cpu_utils.cc:128] Failed to get CPU frequency: 0 Hz\n"
     ]
    },
    {
     "name": "stdout",
     "output_type": "stream",
     "text": [
      "3/3 [==============================] - 1s 24ms/step - loss: 603.9550 - accuracy: 0.3478\n",
      "Epoch 2/15\n",
      "3/3 [==============================] - 0s 25ms/step - loss: 512.6327 - accuracy: 0.5652\n",
      "Epoch 3/15\n",
      "3/3 [==============================] - 0s 36ms/step - loss: 1097.1665 - accuracy: 0.6667\n",
      "Epoch 4/15\n",
      "3/3 [==============================] - 0s 48ms/step - loss: 573.4393 - accuracy: 0.6667\n",
      "Epoch 5/15\n",
      "3/3 [==============================] - 0s 38ms/step - loss: 112.2166 - accuracy: 0.6522\n",
      "Epoch 6/15\n",
      "3/3 [==============================] - 0s 31ms/step - loss: 49.3346 - accuracy: 0.3768\n",
      "Epoch 7/15\n",
      "3/3 [==============================] - 0s 30ms/step - loss: 0.9865 - accuracy: 0.8841\n",
      "Epoch 8/15\n",
      "3/3 [==============================] - 0s 29ms/step - loss: 1.7757 - accuracy: 0.8841\n",
      "Epoch 9/15\n",
      "3/3 [==============================] - 0s 33ms/step - loss: 2.3665 - accuracy: 0.8696\n",
      "Epoch 10/15\n",
      "3/3 [==============================] - 0s 34ms/step - loss: 0.5235 - accuracy: 0.9420\n",
      "Epoch 11/15\n",
      "3/3 [==============================] - 0s 34ms/step - loss: 0.2604 - accuracy: 0.9855\n",
      "Epoch 12/15\n",
      "3/3 [==============================] - 0s 33ms/step - loss: 0.5132 - accuracy: 0.9565\n",
      "Epoch 13/15\n",
      "3/3 [==============================] - 0s 53ms/step - loss: 0.8614 - accuracy: 0.9275\n",
      "Epoch 14/15\n",
      "3/3 [==============================] - 0s 31ms/step - loss: 0.0044 - accuracy: 1.0000\n",
      "Epoch 15/15\n",
      "3/3 [==============================] - 0s 30ms/step - loss: 0.0180 - accuracy: 0.9855\n"
     ]
    }
   ],
   "source": [
    "cnn = train_model(epochs=15, batch_size=32, dropout_rate=0.5)"
   ],
   "metadata": {
    "collapsed": false
   }
  },
  {
   "cell_type": "code",
   "execution_count": 15,
   "outputs": [
    {
     "name": "stdout",
     "output_type": "stream",
     "text": [
      "1/1 [==============================] - 0s 110ms/step - loss: 6.8694 - accuracy: 0.6667\n"
     ]
    }
   ],
   "source": [
    "loss, accuracy = cnn.evaluate(X_test, y_test)"
   ],
   "metadata": {
    "collapsed": false
   }
  },
  {
   "cell_type": "code",
   "execution_count": 8,
   "outputs": [],
   "source": [],
   "metadata": {
    "collapsed": false
   }
  }
 ],
 "metadata": {
  "kernelspec": {
   "name": "conda-env-ml_env-py",
   "language": "python",
   "display_name": "Python [conda env:ml_env]"
  },
  "language_info": {
   "codemirror_mode": {
    "name": "ipython",
    "version": 2
   },
   "file_extension": ".py",
   "mimetype": "text/x-python",
   "name": "python",
   "nbconvert_exporter": "python",
   "pygments_lexer": "ipython2",
   "version": "2.7.6"
  }
 },
 "nbformat": 4,
 "nbformat_minor": 0
}
